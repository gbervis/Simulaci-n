{
 "cells": [
  {
   "cell_type": "code",
   "execution_count": 4,
   "metadata": {
    "id": "MXVRWocs6-Zu"
   },
   "outputs": [],
   "source": [
    "# Paquete Numpy\n",
    "import numpy as np\n",
    "\n",
    "# Generación de números pseudoaleatorios\n",
    "from numpy import random as rd\n",
    "\n",
    "# Módulo para las gráficas\n",
    "from matplotlib import pyplot as plt\n",
    "\n",
    "# Análisis de datos\n",
    "import pandas as pd\n",
    "from pandas import DataFrame as df"
   ]
  },
  {
   "cell_type": "markdown",
   "metadata": {
    "id": "8_6K9q4U6-Z9"
   },
   "source": [
    "<h1 style=\"background-color:Green;font-size:36pt;color:white\">MODELOS DE SIMULACIÓN </h1>\n",
    "\n",
    "## Universidad Tecnológica La Salle - León, Nicaragua\n",
    "### Giusseppe Benito Bervis Quintero\n",
    "\n"
   ]
  },
  {
   "cell_type": "code",
   "execution_count": 6,
   "metadata": {
    "colab": {
     "base_uri": "https://localhost:8080/",
     "height": 206
    },
    "id": "Q9Z2QNxX6-aF",
    "outputId": "677d006a-def6-43c3-b16b-4cd534b46944"
   },
   "outputs": [
    {
     "data": {
      "text/html": [
       "\n",
       "  <div id=\"df-7e4d29a8-5e92-4de3-a2e2-b7657b702745\">\n",
       "    <div class=\"colab-df-container\">\n",
       "      <div>\n",
       "<style scoped>\n",
       "    .dataframe tbody tr th:only-of-type {\n",
       "        vertical-align: middle;\n",
       "    }\n",
       "\n",
       "    .dataframe tbody tr th {\n",
       "        vertical-align: top;\n",
       "    }\n",
       "\n",
       "    .dataframe thead th {\n",
       "        text-align: right;\n",
       "    }\n",
       "</style>\n",
       "<table border=\"1\" class=\"dataframe\">\n",
       "  <thead>\n",
       "    <tr style=\"text-align: right;\">\n",
       "      <th></th>\n",
       "      <th>Dia de Junio</th>\n",
       "      <th>Cuartos Rentados</th>\n",
       "      <th>No. Identificacion</th>\n",
       "      <th>Direccion</th>\n",
       "      <th>Tipo</th>\n",
       "    </tr>\n",
       "  </thead>\n",
       "  <tbody>\n",
       "    <tr>\n",
       "      <th>0</th>\n",
       "      <td>1</td>\n",
       "      <td>0</td>\n",
       "      <td>0.0</td>\n",
       "      <td>2607 Starr Av</td>\n",
       "      <td>C</td>\n",
       "    </tr>\n",
       "    <tr>\n",
       "      <th>1</th>\n",
       "      <td>2</td>\n",
       "      <td>2</td>\n",
       "      <td>1.0</td>\n",
       "      <td>309 W Alexis Rd</td>\n",
       "      <td>C</td>\n",
       "    </tr>\n",
       "    <tr>\n",
       "      <th>2</th>\n",
       "      <td>3</td>\n",
       "      <td>3</td>\n",
       "      <td>2.0</td>\n",
       "      <td>2652 W Central Av</td>\n",
       "      <td>C</td>\n",
       "    </tr>\n",
       "    <tr>\n",
       "      <th>3</th>\n",
       "      <td>4</td>\n",
       "      <td>2</td>\n",
       "      <td>3.0</td>\n",
       "      <td>630 Dixie Hwy</td>\n",
       "      <td>A</td>\n",
       "    </tr>\n",
       "    <tr>\n",
       "      <th>4</th>\n",
       "      <td>5</td>\n",
       "      <td>3</td>\n",
       "      <td>4.0</td>\n",
       "      <td>3510 Dorr St</td>\n",
       "      <td>C</td>\n",
       "    </tr>\n",
       "  </tbody>\n",
       "</table>\n",
       "</div>\n",
       "      <button class=\"colab-df-convert\" onclick=\"convertToInteractive('df-7e4d29a8-5e92-4de3-a2e2-b7657b702745')\"\n",
       "              title=\"Convert this dataframe to an interactive table.\"\n",
       "              style=\"display:none;\">\n",
       "        \n",
       "  <svg xmlns=\"http://www.w3.org/2000/svg\" height=\"24px\"viewBox=\"0 0 24 24\"\n",
       "       width=\"24px\">\n",
       "    <path d=\"M0 0h24v24H0V0z\" fill=\"none\"/>\n",
       "    <path d=\"M18.56 5.44l.94 2.06.94-2.06 2.06-.94-2.06-.94-.94-2.06-.94 2.06-2.06.94zm-11 1L8.5 8.5l.94-2.06 2.06-.94-2.06-.94L8.5 2.5l-.94 2.06-2.06.94zm10 10l.94 2.06.94-2.06 2.06-.94-2.06-.94-.94-2.06-.94 2.06-2.06.94z\"/><path d=\"M17.41 7.96l-1.37-1.37c-.4-.4-.92-.59-1.43-.59-.52 0-1.04.2-1.43.59L10.3 9.45l-7.72 7.72c-.78.78-.78 2.05 0 2.83L4 21.41c.39.39.9.59 1.41.59.51 0 1.02-.2 1.41-.59l7.78-7.78 2.81-2.81c.8-.78.8-2.07 0-2.86zM5.41 20L4 18.59l7.72-7.72 1.47 1.35L5.41 20z\"/>\n",
       "  </svg>\n",
       "      </button>\n",
       "      \n",
       "  <style>\n",
       "    .colab-df-container {\n",
       "      display:flex;\n",
       "      flex-wrap:wrap;\n",
       "      gap: 12px;\n",
       "    }\n",
       "\n",
       "    .colab-df-convert {\n",
       "      background-color: #E8F0FE;\n",
       "      border: none;\n",
       "      border-radius: 50%;\n",
       "      cursor: pointer;\n",
       "      display: none;\n",
       "      fill: #1967D2;\n",
       "      height: 32px;\n",
       "      padding: 0 0 0 0;\n",
       "      width: 32px;\n",
       "    }\n",
       "\n",
       "    .colab-df-convert:hover {\n",
       "      background-color: #E2EBFA;\n",
       "      box-shadow: 0px 1px 2px rgba(60, 64, 67, 0.3), 0px 1px 3px 1px rgba(60, 64, 67, 0.15);\n",
       "      fill: #174EA6;\n",
       "    }\n",
       "\n",
       "    [theme=dark] .colab-df-convert {\n",
       "      background-color: #3B4455;\n",
       "      fill: #D2E3FC;\n",
       "    }\n",
       "\n",
       "    [theme=dark] .colab-df-convert:hover {\n",
       "      background-color: #434B5C;\n",
       "      box-shadow: 0px 1px 3px 1px rgba(0, 0, 0, 0.15);\n",
       "      filter: drop-shadow(0px 1px 2px rgba(0, 0, 0, 0.3));\n",
       "      fill: #FFFFFF;\n",
       "    }\n",
       "  </style>\n",
       "\n",
       "      <script>\n",
       "        const buttonEl =\n",
       "          document.querySelector('#df-7e4d29a8-5e92-4de3-a2e2-b7657b702745 button.colab-df-convert');\n",
       "        buttonEl.style.display =\n",
       "          google.colab.kernel.accessAllowed ? 'block' : 'none';\n",
       "\n",
       "        async function convertToInteractive(key) {\n",
       "          const element = document.querySelector('#df-7e4d29a8-5e92-4de3-a2e2-b7657b702745');\n",
       "          const dataTable =\n",
       "            await google.colab.kernel.invokeFunction('convertToInteractive',\n",
       "                                                     [key], {});\n",
       "          if (!dataTable) return;\n",
       "\n",
       "          const docLinkHtml = 'Like what you see? Visit the ' +\n",
       "            '<a target=\"_blank\" href=https://colab.research.google.com/notebooks/data_table.ipynb>data table notebook</a>'\n",
       "            + ' to learn more about interactive tables.';\n",
       "          element.innerHTML = '';\n",
       "          dataTable['output_type'] = 'display_data';\n",
       "          await google.colab.output.renderOutput(dataTable, element);\n",
       "          const docLink = document.createElement('div');\n",
       "          docLink.innerHTML = docLinkHtml;\n",
       "          element.appendChild(docLink);\n",
       "        }\n",
       "      </script>\n",
       "    </div>\n",
       "  </div>\n",
       "  "
      ],
      "text/plain": [
       "   Dia de Junio  Cuartos Rentados  No. Identificacion          Direccion Tipo\n",
       "0             1                 0                 0.0      2607 Starr Av    C\n",
       "1             2                 2                 1.0    309 W Alexis Rd    C\n",
       "2             3                 3                 2.0  2652 W Central Av    C\n",
       "3             4                 2                 3.0      630 Dixie Hwy    A\n",
       "4             5                 3                 4.0       3510 Dorr St    C"
      ]
     },
     "execution_count": 6,
     "metadata": {},
     "output_type": "execute_result"
    }
   ],
   "source": [
    "# Aquí se cargarán los datos que están guardados en el archivo CSV\n",
    "Datos = pd.read_csv('Datos_10.csv', encoding='latin1')\n",
    "Datos.head()"
   ]
  },
  {
   "cell_type": "markdown",
   "metadata": {
    "id": "pBy6V7Zb6-aH"
   },
   "source": [
    "\n",
    "# Tipos de muestreo\n",
    "\n",
    "## Razones para realizar muestreo\n",
    "\n",
    "Cuando se estudian las características de una población, existen diversas razones prácticas para preferir algunas partes (o muestras) de esta para observar y medir.\n",
    "1. Establecer contacto con toda la población requiere mucho tiempo.\n",
    "2. El costo de estudiar todos los elementos de una población resulta prohibitivo.\n",
    "3. Es imposible verificar de manera física todos los elementos de la población.\n",
    "4. Algunas pruebas son de naturaleza destructiva.\n",
    "5. Los resultados de la muestra son adecuados.\n",
    "\n",
    "## Tipos de muestreo\n",
    "\n",
    "### Muestreo aleatorio simple\n",
    "**Definición: Muestreo aleatorio simple.** Muestra seleccionada de manera que cada elemento o individuo de la población tenga las mismas posibilidades de que se le incluya."
   ]
  },
  {
   "cell_type": "markdown",
   "metadata": {
    "id": "qc4cpsHs6-aK"
   },
   "source": [
    "<FONT COLOR = 'BLUE'>\n",
    "    \n",
    "**Ejercicio 1:** Jane y Joe Millar administran el Foxtrot Inn, una pensión donde dan alojamiento y desayuno, localizada en Tryon, Carolina del Norte. El negocio tiene ocho habitaciones. En las dos primeras columnas de la tabla adjunta, en Datos_10, se muestra el número de las habitaciones que se rentaron diariamente durante junio de 2020. Seleccione una muestra aleatoia simple de cinco noches de junio, sin reemplazamiento.\n",
    "</FONT>"
   ]
  },
  {
   "cell_type": "code",
   "execution_count": 25,
   "metadata": {
    "colab": {
     "base_uri": "https://localhost:8080/"
    },
    "id": "0PiSZwxc6-aN",
    "outputId": "107075a9-01cd-47fd-b759-39abdd5bf970"
   },
   "outputs": [
    {
     "data": {
      "text/plain": [
       "array([4, 3, 2, 1, 2])"
      ]
     },
     "execution_count": 25,
     "metadata": {},
     "output_type": "execute_result"
    }
   ],
   "source": [
    "# Llamando a los datos de los cuartos rentados\n",
    "Cuartos_rent = Datos['Cuartos Rentados']\n",
    "\n",
    "# Para observar la cantidad de valores\n",
    "# Cuartos_rent.value_counts() \n",
    "\n",
    "# Creando la muestra aleatoria de tamaño 5\n",
    "rd.choice(Cuartos_rent, size = 5, replace = False)"
   ]
  },
  {
   "cell_type": "markdown",
   "metadata": {
    "id": "j8XfXBx_6-aO"
   },
   "source": [
    "### Muestreo aleatorio sistemático\n",
    "\n",
    "En algunas situaciones el muestreo aleatorio simple resulta complicado, por ejemplo cuando no se tiene una lista o información de los individuos que conforman la población (para poder seleccionar de ahí).\n",
    "\n",
    "**Definición: Muestreo aleatorio sistemático.** Se selecciona un punto aleatorio de inicio y posteriormente se elige cada $k$-ésimo miembro de la población."
   ]
  },
  {
   "cell_type": "markdown",
   "metadata": {
    "id": "YBSUy8QA6-aS"
   },
   "source": [
    "<FONT COLOR = 'BLUE'>\n",
    "\n",
    "**Ejercicio 2:** Stood’s Grocery Market necesita muestrear a sus clientes para estudiar el lapso de tiempo que pasan en la tienda. Evidentemente no hay una lista de clientes que llegarán, por lo que el muestreo aleatorio simple no es efectivo. Se desea una muestra de 100 clientes; para este plan se disponen de 4 días (de lunes a jueves) en los que se tomarán muestras del mismo tamaño; el inicio del muestreo se iniciará en distintos horarios: 8:00, 11:00, 16:00 y 19:00 (uno para cada día). Así mismo, considere elegir un cliente (como punto de inicio) entre los clientes 1 y 10 (a este le debe tomar el tiempo de estancia) y después elegir cada décimo cliente (a partir del inicial) hasta completar la cuota de clientes del día. Con base en lo anterior, determine un plan de muestreo aleatorio sistemático para este caso.\n",
    "    \n",
    "</FONT>"
   ]
  },
  {
   "cell_type": "code",
   "execution_count": 42,
   "metadata": {
    "colab": {
     "base_uri": "https://localhost:8080/"
    },
    "id": "UoVydLCU6-aW",
    "outputId": "11920bf6-ef92-4eb0-8887-3acd7d2004fb"
   },
   "outputs": [
    {
     "name": "stdout",
     "output_type": "stream",
     "text": [
      "El plan de muestreo es:\n",
      "Lunes     iniciando en el cliente no. 4 en el horario  8:00\n",
      "Martes    iniciando en el cliente no. 5 en el horario 11:00\n",
      "Miercoles iniciando en el cliente no. 2 en el horario 16:00\n",
      "Jueves    iniciando en el cliente no. 2 en el horario 19:00\n"
     ]
    }
   ],
   "source": [
    "# Definiendo los días de interés\n",
    "dias = ['Lunes    ', 'Martes   ', 'Miercoles', 'Jueves   ']\n",
    "\n",
    "# Definiendo los horarios\n",
    "horas = [' 8:00', '11:00', '16:00', '19:00']\n",
    "horario = rd.choice(horas, size = 4, replace = False)\n",
    "\n",
    "# Definiendo los puntos de inicio\n",
    "punto_inicio = rd.randint(1, 11, size = 5)\n",
    "\n",
    "# Para imprimir el plan de muestreo\n",
    "print('El plan de muestreo es:')\n",
    "for i in range(len(dias)):\n",
    "  print(dias[i], 'iniciando en el cliente no.', punto_inicio[i], 'en el horario', horario[i])"
   ]
  },
  {
   "cell_type": "markdown",
   "metadata": {
    "id": "wUPPzCGT6-aX"
   },
   "source": [
    "### Muestreo aleatorio estratificado\n",
    "Cuando una población se divide en grupos a partir de ciertas características, el muestreo aleatorio estratificado garantiza que cada grupo o estrato se encuentre representado en la muestra.\n",
    "\n",
    "**Definición: Muestreo aleatorio estratificado.** Una población se divide en subgrupos, denominados estratos, y se selecciona al azar una muestra de cada uno.\n",
    "\n",
    "Usualmente, los estratos se forman con base en los atributos o características compartidos entre los miembros. Se toma una muestra aleatoria de cada uno en un número proporcional al tamaño del estrato comparado con la población; tras definirlos se aplica el muestreo aleatorio simple en cada grupo para formar la muestra."
   ]
  },
  {
   "cell_type": "markdown",
   "metadata": {
    "id": "OiS-QEnX6-aa"
   },
   "source": [
    "<FONT COLOR = 'BLUE'>\n",
    "    \n",
    "**Ejercicio 3:** Se toman las 352 empresas más grandes de EEUU para estudiar los gastos en publicidad. Para garantizar que la muestra sea representativa, se consideraron los estratos de la tabla (probabilidad de retorno del capital). \n",
    "- Determine la frecuencia relativa de los estratos e interprete qué significa en este caso. \n",
    "- ¿Cómo se haría el muestreo estratificado en este caso si se quiere tomar una muestra de tamaño 50? (Determine el número de elementos a tomar de cada grupo).\n",
    "\n",
    "<table class=\"default\">\n",
    "\n",
    "  <tr>\n",
    "    <td>Estrato</td>\n",
    "    <td>Probabilidad</td>\n",
    "    <td>Frec. Abs.</td>\n",
    "    <td>Frec. Relat.</td>\n",
    "    <td>No. de muestras</td>\n",
    "  </tr>\n",
    "\n",
    "  <tr>\n",
    "    <td>1</td>\n",
    "    <td>30% a más</td>\n",
    "    <td>8</td>\n",
    "    <td></td>\n",
    "    <td></td>\n",
    "  </tr>\n",
    "\n",
    "  <tr>\n",
    "    <td>2</td>\n",
    "    <td>20% hasta 30%</td>\n",
    "    <td>35</td>\n",
    "    <td></td>\n",
    "    <td></td>\n",
    "  </tr>\n",
    "    \n",
    "  <tr>\n",
    "    <td>3</td>\n",
    "    <td>10% hasta 20%</td>\n",
    "    <td>189</td>\n",
    "    <td></td>\n",
    "    <td></td>\n",
    "  </tr>\n",
    "    \n",
    "  <tr>\n",
    "    <td>4</td>\n",
    "    <td>0% hasta 10%</td>\n",
    "    <td>115</td>\n",
    "    <td></td>\n",
    "    <td></td>\n",
    "  </tr>\n",
    "    \n",
    "  <tr>\n",
    "    <td>5</td>\n",
    "    <td>Déficit</td>\n",
    "    <td>5</td>\n",
    "    <td></td>\n",
    "    <td></td>\n",
    "  </tr>\n",
    "    \n",
    "  <tr>\n",
    "    <td>Total</td>\n",
    "    <td></td>\n",
    "    <td>352</td>\n",
    "    <td></td>\n",
    "    <td></td>\n",
    "  </tr>\n",
    "\n",
    "</table>\n",
    "    \n",
    "</FONT>"
   ]
  },
  {
   "cell_type": "code",
   "execution_count": 44,
   "metadata": {
    "colab": {
     "base_uri": "https://localhost:8080/"
    },
    "id": "womkqfsP6-ae",
    "outputId": "180b43fa-70ec-4907-eba8-646c841015ac"
   },
   "outputs": [
    {
     "name": "stdout",
     "output_type": "stream",
     "text": [
      "    probabilidad  Frec. Abs.  Frec. Relat.  No. de muestras\n",
      "0      30% a más           8      0.022727              1.0\n",
      "1  20% hasta 30%          35      0.099432              5.0\n",
      "2  10% hasta 20%         189      0.536932             27.0\n",
      "3   0% hasta 10%         115      0.326705             16.0\n",
      "4        Deficit           5      0.014205              1.0\n"
     ]
    },
    {
     "data": {
      "text/plain": [
       "50.0"
      ]
     },
     "execution_count": 44,
     "metadata": {},
     "output_type": "execute_result"
    }
   ],
   "source": [
    "# Creando el diccionario para crear el DataFrame\n",
    "datos = {'probabilidad' : ['30% a más', '20% hasta 30%', '10% hasta 20%', '0% hasta 10%', 'Deficit'],\n",
    "         'Frec. Abs.' : [8, 35, 189, 115, 5]}\n",
    "\n",
    "# Convirtiendo el diccionario en un Df\n",
    "Df = df(datos)\n",
    "\n",
    "# Obteniendo el total de las frecuencias absolutas\n",
    "total = np.sum(Df['Frec. Abs.'])\n",
    "\n",
    "# Calculando las frec. relativas, añadiéndolas al Df\n",
    "Df['Frec. Relat.'] = [i/total for i in Df['Frec. Abs.']]\n",
    "\n",
    "# Calculando el no. de muestras, añadiéndolas al Df\n",
    "Df['No. de muestras'] = [np.round(i*50,0) for i in Df['Frec. Relat.']]\n",
    "print(Df)\n",
    "\n",
    "# Confirmando que la suma del no. de muestras coincida\n",
    "# con el tamaño de la muestra deseado\n",
    "np.sum(Df['No. de muestras'] )"
   ]
  },
  {
   "cell_type": "markdown",
   "metadata": {
    "id": "tG7RT_gE6-ai"
   },
   "source": [
    "<FONT COLOR = 'BLUE'>\n",
    "    \n",
    "**Ejercicio 4:** En la tabla adjunta se registran 24 tiendas de Marco’s Pizza en el condado Lucas; las cuales se identifican con números 00 hasta 23. También se indica si la tienda es propiedad de alguna corporación (C) o del administrador (A). Seleccione e inspeccione una muestra según se le pida.\n",
    "1. Realice su muestra aleatoria simple de tamaño 6. No se debe admitir repeticiones.\n",
    "2. Usando muestreo aleatorio sistemático escoja una muestra de tamaño 6. Para esto, genere un plan en el que se escoja entre la tienda 0 y la 3, ¿de cuánto debe ser el salto para que usted pueda completar su muestra? ¿Qué tiendas tomaría?\n",
    "3. Use muestreo estratificado para generar una muestra de tamaño 6, de los cuales 4 son propiedad corporativa y 2 del administrador. ¿Esto genera una muestra representativa de la población? Seleccione una muestra adecuada.\n",
    "\n",
    "</FONT>"
   ]
  },
  {
   "cell_type": "code",
   "execution_count": null,
   "metadata": {
    "id": "onDFGevi6-al"
   },
   "outputs": [],
   "source": [
    "# Inciso 3\n",
    "# Separando las tiendas tipo C\n",
    "Tiendas_C = Datos['Direccion'][Datos['Tipo'] == 'C']\n",
    "# Haciendo la muestra de las tiendas tipo C\n",
    "M_C = rd.choice(Tiendas_C, size = 4, replace = False)\n",
    "\n",
    "# Separando las tiendas de tipo A\n",
    "Tiendas_A = Datos['Direccion'][Datos['Tipo'] == 'A']\n",
    "# Haciendo la muestra de las tiendas tipo A\n",
    "M_A = rd.choice(Tiendas_A, size = 2, replace = False)\n",
    "\n",
    "# Uniendo las dos muestras\n",
    "print(np.concatenate([M_C, M_A]))"
   ]
  },
  {
   "cell_type": "markdown",
   "metadata": {
    "id": "AEJYnys56-am"
   },
   "source": [
    "<FONT COLOR = 'BLUE'>\n",
    "\n",
    "# Jugando con la media\n",
    "\n",
    "**Ejercicio 5:** Retome los datos del ejercicio en el que se estudió el número de habitaciones rentadas en Foxtrot Inn, en Tryon, Carolina del Norte. La población se refiere al número de habitaciones rentadas durante cada uno de los 30 días de junio de 2013. \n",
    "- Determine la media de la población. \n",
    "- Seleccione muestras aleatorias de cinco días.\n",
    "    - En cada simulación, determine la media de cada muestra. (Guarde los valores).\n",
    "- Tome, sucesivamente 100 muestras, 1000 muestras, 10000 muestras y 20000 muestras.\n",
    "- Realice un histograma de las medias guardadas. (A partir de 1000 muestras, use 30 bins). Gráfique, también, la media poblacional. ¿Qué sucede a medida que aumentamos el número de muestras?\n",
    "</FONT>\n",
    "    \n"
   ]
  },
  {
   "cell_type": "code",
   "execution_count": 82,
   "metadata": {
    "colab": {
     "base_uri": "https://localhost:8080/",
     "height": 295
    },
    "id": "ItUTREDE6-ao",
    "outputId": "e2d4afc1-8851-4d42-a124-6385d299a6d8"
   },
   "outputs": [
    {
     "data": {
      "image/png": "[encoded data removed]",
      "text/plain": [
       "<Figure size 432x288 with 1 Axes>"
      ]
     },
     "metadata": {
      "needs_background": "light"
     },
     "output_type": "display_data"
    }
   ],
   "source": [
    "# Llamando a los datos de los cuartos rentados\n",
    "Cuartos_rent = Datos['Cuartos Rentados']\n",
    "\n",
    "# Calculando la media de la población\n",
    "teorica = np.mean(Cuartos_rent)\n",
    "\n",
    "# Calculando la media muestral\n",
    "medias = []\n",
    "for i in range(20000):\n",
    "    media = np.mean(rd.choice(Cuartos_rent, 5, replace = False))\n",
    "    medias.append(media)\n",
    "\n",
    "# Gráficas\n",
    "plt.hist(medias, bins = 30)\n",
    "plt.axvline(teorica, color = 'r', linestyle = '--', label = 'Media poblacional')\n",
    "plt.legend()\n",
    "\n",
    "plt.xlabel('Frecuencias absolutas')\n",
    "plt.ylabel('Valor de la media muestral')\n",
    "plt.title('Histograma de la media muestral')\n",
    "plt.show()"
   ]
  }
 ],
 "metadata": {
  "colab": {
   "collapsed_sections": [],
   "name": "10 - Tipos de muestreo.ipynb",
   "provenance": []
  },
  "kernelspec": {
   "display_name": "Python 3",
   "language": "python",
   "name": "python3"
  },
  "language_info": {
   "codemirror_mode": {
    "name": "ipython",
    "version": 3
   },
   "file_extension": ".py",
   "mimetype": "text/x-python",
   "name": "python",
   "nbconvert_exporter": "python",
   "pygments_lexer": "ipython3",
   "version": "3.9.0"
  }
 },
 "nbformat": 4,
 "nbformat_minor": 1
}
