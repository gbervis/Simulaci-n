{
 "cells": [
  {
   "cell_type": "code",
   "execution_count": 1,
   "metadata": {},
   "outputs": [],
   "source": [
    "# Paquete Numpy\n",
    "import numpy as np\n",
    "\n",
    "# Generación de números pseudoaleatorios\n",
    "from numpy import random as rd\n",
    "\n",
    "# Módulo para las gráficas\n",
    "from matplotlib import pyplot as plt\n",
    "\n",
    "# Análisis de datos\n",
    "import pandas as pd\n",
    "from pandas import DataFrame as df"
   ]
  },
  {
   "cell_type": "markdown",
   "metadata": {},
   "source": [
    "<h1 style=\"background-color:Green;font-size:36pt;color:white\">MODELOS DE SIMULACIÓN </h1>\n",
    "\n",
    "## Universidad Tecnológica La Salle - León, Nicaragua\n",
    "### Giusseppe Benito Bervis Quintero\n",
    "\n",
    "# Simulaciones financieras\n",
    "\n",
    "<FONT COLOR = 'Blue'>  **Ejercicio:** El precio de una acción particular listada en la Bolsa de Valores de Nueva York actualmente cuesta $\\$39$. La siguiente distribución de probabilidad muestra cómo se espera que cambie diariamente el precio por acción a lo largo de un periodo de tres meses:\n",
    "\n",
    "<table style=\"width:50%\">\n",
    "  <tr>\n",
    "    <th> Cambio del precio de la acción ($\\$$) </th>\n",
    "    <th> Probabilidad </th>\n",
    "\n",
    "  </tr>\n",
    "  <tr>\n",
    "    <td> -2 </td>\n",
    "    <td> 0.15 </td>\n",
    "  </tr>\n",
    "  \n",
    "  <tr>\n",
    "    <td> -1 </td>\n",
    "    <td> 0.10 </td>\n",
    "  </tr>\n",
    "  \n",
    "  <tr>\n",
    "    <td> 0 </td>\n",
    "    <td> 0.15 </td>\n",
    "  </tr>\n",
    "  <tr>\n",
    "    <td> 1 </td>\n",
    "    <td> 0.20 </td>\n",
    "  </tr>\n",
    "  <tr>\n",
    "    <td> 2 </td>\n",
    "    <td> 0.20 </td>\n",
    "  </tr>\n",
    "  <tr>\n",
    "    <td> 3 </td>\n",
    "    <td> 0.10 </td>\n",
    "  </tr>\n",
    "  <tr>\n",
    "    <td> 4 </td>\n",
    "    <td> 0.10 </td>\n",
    "  </tr>\n",
    "</table>\n",
    "\n",
    "Con el precio actual de $39 por acción, simule el precio por acción durante los siguientes 360 días. ¿Cuál es el precio simulado final por acción? (Realice solo una simulación, y realice la gráfica de la misma) </FONT>"
   ]
  },
  {
   "cell_type": "code",
   "execution_count": 3,
   "metadata": {},
   "outputs": [
    {
     "data": {
      "image/png": "[encoded data removed]",
      "text/plain": [
       "<Figure size 432x288 with 1 Axes>"
      ]
     },
     "metadata": {
      "needs_background": "light"
     },
     "output_type": "display_data"
    }
   ],
   "source": [
    "c = 39 #Costo inicial\n",
    "cambio = [-2,-1,0,1,2,3,4]\n",
    "pcambio = [0.15,0.1,0.15,0.2,0.2,0.1,0.1]\n",
    "A = []\n",
    "\n",
    "for i in range(360):\n",
    "    A = np.append(A,c)\n",
    "    ca = rd.choice(cambio,p=pcambio)\n",
    "    c = c + ca\n",
    "\n",
    "plt.plot(A)\n",
    "plt.show()\n"
   ]
  },
  {
   "cell_type": "code",
   "execution_count": 7,
   "metadata": {},
   "outputs": [
    {
     "data": {
      "image/png": "[encoded data removed]",
      "text/plain": [
       "<Figure size 432x288 with 1 Axes>"
      ]
     },
     "metadata": {
      "needs_background": "light"
     },
     "output_type": "display_data"
    }
   ],
   "source": [
    "\n",
    "cambio = [-2,-1,0,1,2,3,4]\n",
    "pcambio = [0.15,0.1,0.15,0.2,0.2,0.1,0.1]\n",
    "\n",
    "A = []\n",
    "B = []\n",
    "for j in range (2):\n",
    "    c = 39 #Costo inicial\n",
    "    for i in range(360):\n",
    "        if j == 0:\n",
    "            A = np.append(A,c)\n",
    "        else:\n",
    "            B.append(c)\n",
    "        ca = rd.choice(cambio,p=pcambio)\n",
    "        c = c + ca\n",
    "\n",
    "plt.fill_between(range(360), A, B, color = 'lightblue')\n",
    "plt.show()"
   ]
  },
  {
   "cell_type": "code",
   "execution_count": 12,
   "metadata": {},
   "outputs": [
    {
     "data": {
      "text/plain": [
       "4.209420514465976e-07"
      ]
     },
     "execution_count": 12,
     "metadata": {},
     "output_type": "execute_result"
    }
   ],
   "source": [
    "def DP(L, D, M, Den, e, Visc):\n",
    "    if M > 0:\n",
    "        g = 9.81\n",
    "        V = M / Den * np.pi * D**2 / 4\n",
    "        Re = Den * V * D / Visc\n",
    "        f = 1.325 / (np.log(e/1000) /(3.7 * D) + 5.74 / Re**0.9)**2\n",
    "        Hf = f*(L/D)*V**2/(2*g)\n",
    "        Dp = Hf*g*Den/(10**5)\n",
    "        return Dp\n",
    "    else:\n",
    "        Dp = 0\n",
    "        return Dp\n",
    "DP(2000, 0.2, 50, 999, 0.00046, 7.005*10**(-5))"
   ]
  },
  {
   "cell_type": "markdown",
   "metadata": {},
   "source": [
    "<FONT COLOR = 'Blue'> **Ejercicio :** Del ejemplo anterior, determine la cantidad que se espera tener al final de los 360 días. Realice 10 000 simulaciones. \n",
    "- Realice las gráficas de las simulaciones.\n",
    "- Encuentre un intervalo de confianza del 99% para el precio de la acción al final del año.</FONT>"
   ]
  },
  {
   "cell_type": "code",
   "execution_count": 7,
   "metadata": {},
   "outputs": [
    {
     "name": "stdout",
     "output_type": "stream",
     "text": [
      "El costo que se espera al final de los 4 trimestres es 362.934\n"
     ]
    }
   ],
   "source": [
    "n = 2 #No. de simulaciones\n",
    "cambio = [-2,-1,0,1,2,3,4]\n",
    "pcambio = [0.15,0.1,0.15,0.2,0.2,0.1,0.1]\n",
    "cft = 0\n",
    "\n",
    "for j in range(n):\n",
    "    c = 39 #Precio inicial\n",
    "    for i in range(360):\n",
    "        ca = rd.choice(cambio,p=pcambio)\n",
    "        c = c + ca\n",
    "        if(i == 359):\n",
    "            cft = cft + c #Suma de los precios finales\n",
    "pf = cft/n\n",
    "print(f\"El costo que se espera al final de los 360 días es {pf}\")"
   ]
  },
  {
   "cell_type": "markdown",
   "metadata": {},
   "source": [
    "<FONT COLOR = 'Blue'> **Ejercicio :** Una persona quiere saber cuánto dinero tendrá, aproximadamente, en su cuenta de ahorro, dentro de dos años. Ella gana 450 dólares al mes, los recibe directamente a su cuenta. Gasta aproximadamente 410 dólares al mes (los saca de la cuenta), sigue una distribución de Poisson. La tasa de interés compuesto que le da el banco sigue una distribución uniforme entre 0.1% y 0.5%. \n",
    "- ¿Cuánto se espera que tenga al final de los dos años, si considera que al inicio en la cuenta hay 500 dólares y que el pago se realiza al final del primer mes? \n",
    "- Realice 100 000 simulaciones.\n",
    "- Grafique la evolución de las simulaciones.\n",
    "- Determine un intervalo de confianza del 99% para el dinero que habrá en le cuenta al final de los dos años.\n",
    " </FONT>"
   ]
  },
  {
   "cell_type": "code",
   "execution_count": 8,
   "metadata": {},
   "outputs": [
    {
     "name": "stdout",
     "output_type": "stream",
     "text": [
      "1501.22\n"
     ]
    }
   ],
   "source": [
    "# No. de simulaciones \n",
    "n = 100\n",
    "\n",
    "# Dinero en la cuenta al final de los 2 años\n",
    "Dinero_fin = []\n",
    "\n",
    "for j in range(n):\n",
    "  # Capital inicial\n",
    "  C = 500\n",
    "\n",
    "  # Lista de estados de cuenta\n",
    "  EC = []\n",
    "\n",
    "for mes in range(24):\n",
    "    pago = 450\n",
    "    gasto = rd.poisson(410)\n",
    "    i = rd.uniform(0.001, 0.005)\n",
    "    # Capital final en cada mes\n",
    "    C = (C - gasto)*(1 + i) + pago\n",
    "\n",
    "    EC.append(C)\n",
    "\n",
    "    if mes == 23:\n",
    "        Dinero_fin.append(C)\n",
    "\n",
    "  # Gráfica de la evolución de los estados de cuenta\n",
    "  plt.plot(EC)\n",
    "\n",
    "\n",
    "# Gráfica de la evolución de los estados de cuenta\n",
    "plt.xlabel('Mes')\n",
    "plt.ylabel('Dinero en la cuenta')\n",
    "plt.title('Evolución de los estados de cuenta en 24 meses')\n",
    "plt.show()"
   ]
  }
 ],
 "metadata": {
  "kernelspec": {
   "display_name": "Python 3",
   "language": "python",
   "name": "python3"
  },
  "language_info": {
   "codemirror_mode": {
    "name": "ipython",
    "version": 3
   },
   "file_extension": ".py",
   "mimetype": "text/x-python",
   "name": "python",
   "nbconvert_exporter": "python",
   "pygments_lexer": "ipython3",
   "version": "3.9.0"
  }
 },
 "nbformat": 4,
 "nbformat_minor": 4
}
