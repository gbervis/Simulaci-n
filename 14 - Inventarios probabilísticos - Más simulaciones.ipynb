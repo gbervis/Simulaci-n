{
 "cells": [
  {
   "cell_type": "code",
   "execution_count": 2,
   "metadata": {},
   "outputs": [],
   "source": [
    "# Paquete Numpy\n",
    "import numpy as np\n",
    "\n",
    "# Generación de números pseudoaleatorios\n",
    "from numpy import random as rd\n",
    "\n",
    "# Módulo para las gráficas\n",
    "from matplotlib import pyplot as plt\n",
    "\n",
    "# Análisis de datos\n",
    "import pandas as pd\n",
    "from pandas import DataFrame as df"
   ]
  },
  {
   "cell_type": "markdown",
   "metadata": {},
   "source": [
    "<h1 style=\"background-color:Green;font-size:36pt;color:white\">MODELOS DE SIMULACIÓN </h1>\n",
    "\n",
    "## Universidad Tecnológica La Salle - León, Nicaragua\n",
    "### Giusseppe Benito Bervis Quintero\n",
    "\n",
    "# Ejercicios sobre simulación"
   ]
  },
  {
   "cell_type": "markdown",
   "metadata": {},
   "source": [
    "**Ejercicio:** Jessica Williams, gerente de Kitchen Appliances de la tienda Midtown, cree que sus niveles de inventario de estufas son más altos de lo necesario. Antes de corregir la política de inventarios, registra el número vendido cada día durante un periodo de 25 días, como se resume a continuación.\n",
    "\n",
    "<style>\n",
    "table, th, td {\n",
    "  border:1px solid black;\n",
    "}\n",
    "</style>\n",
    "<body>\n",
    "\n",
    "<table style=\"width:80%\">\n",
    "  <tr>\n",
    "    <td> Cantidad vendida</td>\n",
    "    <td> 2</td>\n",
    "    <td> 3</td>\n",
    "    <td> 4</td>\n",
    "    <td> 5</td>\n",
    "    <td> 6</td>\n",
    "  </tr>\n",
    "  <tr>\n",
    "    <td> No. de días</td>\n",
    "    <td> 4 </td>\n",
    "    <td> 7 </td>\n",
    "    <td> 8 </td>\n",
    "    <td> 5 </td>\n",
    "    <td> 1 </td>\n",
    "  </tr>\n",
    "</table>\n",
    "\n",
    "</style>\n",
    "1. Use estos datos para estimar la distribución de probabilidad de las ventas diarias con que se generará la demanda. \n",
    "2. Realice un código en Python para simular las ventas diarias. Realice 10000 simulaciones de 300 días cada una, y obtenga un intervalo de confianza del 99% de confianza, para el promedio de ventas diarias."
   ]
  },
  {
   "cell_type": "code",
   "execution_count": null,
   "metadata": {},
   "outputs": [],
   "source": [
    "n = 1000\n",
    "\n",
    "Cant_ven = [2,3,4,5,6]\n",
    "No_dias = [0.16,0.28,0.32,0.2,0.04]\n",
    "\n",
    "suma = []\n",
    "for j in range(n):\n",
    "    for i in range(300):\n",
    "        Demanda = rd.choice(Cant_ven, p=No_dias)\n",
    "        suma.append(Demanda)\n",
    "Prom_VD = np.mean(suma)\n",
    "print(Prom_VD)"
   ]
  },
  {
   "cell_type": "markdown",
   "metadata": {},
   "source": [
    "**Ejercicio:** Se tiene un proceso de fabricación de refrigeradores. La demanda promedio sigue una distribución normal con media 80 refrigeradores por día, con una desviación estándar de 10 refrigeradores diarios. Se desea saber cuál es la mejor política de producción, considerando 60, 70, 80, 90 y 100 refrigeradores por día. La demanda no satisfecha se considera venta perdida (no genera costos), y el costo de tener un refrigerador en el inventario es de $5/refrigerador por día.\n",
    "\n",
    "1. Se le pide realizar 10000 corridas de 100 días para cada política, para obtener el costo promedio por día de cada política. Determine un intervalo de confianza del 99\\% para el parámetro estimado.\n",
    "2. Determine, con base en sus resultados, cuál de las políticas seleccionadas es la que debe implementar la empresa."
   ]
  },
  {
   "cell_type": "code",
   "execution_count": 8,
   "metadata": {},
   "outputs": [
    {
     "name": "stdout",
     "output_type": "stream",
     "text": [
      "300.4512886218219\n"
     ]
    }
   ],
   "source": [
    "n = 1000\n",
    "pr = 60 #Producción\n",
    "S_Costo = []\n",
    "\n",
    "for j in range(n):\n",
    "    Ii = pr\n",
    "    for i in range(100):\n",
    "        Demanda = rd.normal(80,10)\n",
    "        if(Ii >= Demanda):\n",
    "            ventas = Demanda\n",
    "        else:\n",
    "            ventas = Ii\n",
    "        If = Ii - ventas + pr\n",
    "\n",
    "        Costo = ((Ii + If)/2)*5\n",
    "        S_Costo.append(Costo)\n",
    "        Ii = If\n",
    "PC_diario = np.mean(S_Costo)\n",
    "print(PC_diario)"
   ]
  },
  {
   "cell_type": "markdown",
   "metadata": {},
   "source": [
    "**Ejercicio:** Mark Simkin, dueño y gerente general de la Ferretería Simkin, desea encontrar una política de inventarios adecuada y de bajo costo para un producto en particular: el taladro eléctrico modelo Ace. Debido a la complejidad de esta situación, ha decidido usar simulación como ayuda con su problema. La demanda diaria para el taladro Ace es relativamente baja, pero está sujeta a variabilidad. Durante los últimos 300 días, Simkin ha observado las ventas mostradas en la siguiente tabla.\n",
    "\n",
    "<style>\n",
    "table, th, td {\n",
    "  border:1px solid black;\n",
    "}\n",
    "</style>\n",
    "<body>\n",
    "\n",
    "<table style=\"width:80%\">\n",
    "  <tr>\n",
    "    <td> Demanda diaria del taladro Ace</td>\n",
    "    <td> 0</td>\n",
    "    <td> 1</td>\n",
    "    <td> 2</td>\n",
    "    <td> 3</td>\n",
    "    <td> 4</td>\n",
    "    <td> 5</td>\n",
    "  </tr>\n",
    "  <tr>\n",
    "    <td> Frecuencia (días)</td>\n",
    "    <td> 15 </td>\n",
    "    <td> 30 </td>\n",
    "    <td> 60 </td>\n",
    "    <td> 120 </td>\n",
    "    <td> 45 </td>\n",
    "    <td> 30 </td>\n",
    "  </tr>\n",
    "</table>\n",
    "</style>\n",
    "\n",
    "Convierte estos datos históricos de frecuencias en una distribución de probabilidad para la variable demanda diaria. \n",
    "\n",
    "Cuando Simkin coloca una orden para reabastecer su inventario con taladros Ace, existe un tiempo de entrega de uno a tres días. Estos se reciben al inicio del día. El número de días que pasan para recibir las últimas 50 órdenes se presenta en la siguiente tabla:\n",
    "\n",
    "<style>\n",
    "table, th, td {\n",
    "  border:1px solid black;\n",
    "}\n",
    "</style>\n",
    "<body>\n",
    "\n",
    "<table style=\"width:40%\">\n",
    "  <tr>\n",
    "    <td> Tiempo de entrega (días)</td>\n",
    "    <td> 1</td>\n",
    "    <td> 2</td>\n",
    "    <td> 3</td>\n",
    "  </tr>\n",
    "  <tr>\n",
    "    <td> Frecuencia (ordenes)</td>\n",
    "    <td> 10 </td>\n",
    "    <td> 25 </td>\n",
    "    <td> 15 </td>\n",
    "  </tr>\n",
    "</table>\n",
    "</style>\n",
    "\n",
    "De manera similar que para la variable demanda, establezca una distribución de probabilidad para la variable tiempo de entrega.\n",
    "\n",
    "La primera política de inventarios que la Ferretería Simkin desea simular es una cantidad a ordenar de 10 con un punto de reorden de 5. Podemos suponer que el inventario inicial es de 10 unidades en el día 1. La Ferretería Simkin está abierta 200 días al año. Realice 10000 simulaciones y determine un intervalo de confianza del 99% para el parámetro de interés (determine este parámetro).\n",
    "\n",
    "- TAREA: Simule todas las combinaciones posibles de los valores de ordenar de 6 a 20 taladros, con los puntos de reorden de 3 a 10."
   ]
  },
  {
   "cell_type": "code",
   "execution_count": null,
   "metadata": {},
   "outputs": [],
   "source": []
  },
  {
   "cell_type": "markdown",
   "metadata": {},
   "source": [
    "**Ejercicio:** El 6% de los clientes de una entidad bancaria son morosos. ¿Cuál es la probabilidad de encontrar que se atienda a un cliente moroso, después que se han atendido 14 clientes solventes?"
   ]
  },
  {
   "cell_type": "code",
   "execution_count": null,
   "metadata": {},
   "outputs": [],
   "source": []
  },
  {
   "cell_type": "markdown",
   "metadata": {},
   "source": [
    "**Ejercicio:** Se sabe que, en un banco, el 9% del total de cheques que se reciben a la semana, son cheques sin fondos. Si se recibieron 5400 cheques en una semana, ¿cuál es la probabilidad de que la cantidad de cheques sea mayor a 1000? "
   ]
  },
  {
   "cell_type": "code",
   "execution_count": null,
   "metadata": {},
   "outputs": [],
   "source": [
    "# Cantidad de cheques sin fondos una semana que se recibieron 5400 cheques\n",
    "np.mean(rd.poisson(486, size = 1000000) >= 500)"
   ]
  }
 ],
 "metadata": {
  "kernelspec": {
   "display_name": "Python 3",
   "language": "python",
   "name": "python3"
  },
  "language_info": {
   "codemirror_mode": {
    "name": "ipython",
    "version": 3
   },
   "file_extension": ".py",
   "mimetype": "text/x-python",
   "name": "python",
   "nbconvert_exporter": "python",
   "pygments_lexer": "ipython3",
   "version": "3.9.0"
  }
 },
 "nbformat": 4,
 "nbformat_minor": 4
}
