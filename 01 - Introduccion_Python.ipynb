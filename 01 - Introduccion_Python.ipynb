{
 "cells": [
  {
   "cell_type": "markdown",
   "metadata": {},
   "source": [
    "<h1 style=\"background-color:Green;font-size:36pt;color:white\">MODELOS DE SIMULACIÓN </h1>\n",
    "\n",
    "## Universidad Tecnológica La Salle - León, Nicaragua\n",
    "### Giusseppe Benito Bervis Quintero\n",
    "\n",
    "# Introducción a la programación con el lenguaje Python y sus módulos fundamentales\n",
    "\n",
    "El contenido de este cuaderno fue tomado, con modificaciones, de: https://github.com/prodelas/TallerPythonUGR/blob/master/notebooks_adicionales/Introduc_Python_y_modulos_adicionales.ipynb"
   ]
  },
  {
   "cell_type": "markdown",
   "metadata": {},
   "source": [
    "## Ficheros de programa en Python"
   ]
  },
  {
   "cell_type": "markdown",
   "metadata": {},
   "source": [
    "* Usualmente el código [Python](https://www.python.org/) es almacenado en ficheros de texto plano con la extensión \"`.py`\":\n",
    "\n",
    "        miprograma.py\n",
    "\n",
    "* Cada línea de un programa en Python se asume que es una (o parte de una) sentencia del lengaje Python. \n",
    "\n",
    "* No obstante, también existen los denominados [notebooks de IPython](http://ipython.org/ipython-doc/dev/notebook/index.html), con extensión \"`.ipynb`\" en los que se puede incluir y combinar código Python en ciertas celdillas interactivas numeradas, tanto de entrada (con In[número]), junto con sus correspondientes celdillas de salida (indicadas con Out[número]), aparte de celdillas de texto explicativo y de estructuración en secciones, subsecciones, etc. (usando código Markdown), salidas de gráficos, etc. \n",
    "\n",
    "* Un ejemplo de este tipo de ficheros (en formato [JSON](http://en.wikipedia.org/wiki/JSON)), es este propio notebook de IPython, que se puede ejecutar gracias al servidor de Jupyter (consultar la página web oficial de [Jupyter](http://www.jupyter.org)) y permite también ejecutar notebooks de otros muchos lenguajes, como 'R', 'Julia', etc.\n",
    "\n",
    "* Aparte de todo esto, estos notebooks también permiten el uso de órdenes propias del sistema operativo (precedidos o no del símbolo '!'), así como otras pseudo-órdenes genéricas (o comandos 'mágicos' que a veces suelen ir precedidos de '%'), independientes del sistema operativo empleado, pero que se traducirán al SO sobre el que se esté ejecutando el notebook, para poder realizar acciones propias de dicho sistema e interactuar con ficheros y directorios sin necesidad de salir del propio notebook."
   ]
  },
  {
   "cell_type": "markdown",
   "metadata": {},
   "source": [
    "### Codificación de caracteres"
   ]
  },
  {
   "cell_type": "markdown",
   "metadata": {},
   "source": [
    "La codificación de caracteres estándar es la ASCII (acrónimo inglés de American Standard Code for Information Interchange — Código Estándar Estadounidense para el Intercambio de Información), pero nosotros podríamos usar cualqier otro sistema de codificación, por ejemplo UTF-8, que también nos permitirá incluir caracteres acentuados y la letra 'ñ', tan habituales en el idioma español.\n",
    "\n",
    "Para especificar que UTF-8 será usado, debemos incluir la siguiente línea especial\n",
    "\n",
    "    # -*- coding: UTF-8 -*-\n",
    "\n",
    "al principio del fichero. De esta manera podremos usar también caracteres acentuados o internacionales en nuestro archivo. Aunque esta opción ya se está convirtiendo en la opción por defecto en las nuevas versiones de Python e IPython."
   ]
  },
  {
   "cell_type": "markdown",
   "metadata": {},
   "source": [
    "Aparte de estas dos líneas *opcionales* al comienzo de cualquier fichero de código Python, no se requiere código adicional alguno para inicializar un programa Python, salvo el código del programa propiamente dicho. "
   ]
  },
  {
   "cell_type": "markdown",
   "metadata": {},
   "source": [
    "##  Notebooks de IPython"
   ]
  },
  {
   "cell_type": "markdown",
   "metadata": {},
   "source": [
    "Este fichero - que se trata de un notebook de [IPython](http://ipython.org/ipython-doc/dev/notebook/index.html) (con extensión .ipynb) -  no sigue este patrón estándar de simple código Python en un fichero de texto. En vez de esto, un notebook de IPython es almacenado como un fichero con formato [JSON](http://en.wikipedia.org/wiki/JSON). \n",
    "\n",
    "La principal ventaja es que podremos mezclar texto formateado, código Python, junto con las correspondientes salidas y resultados. Esto requiere que al mismo tiempo se esté ejecutando el correspondiente servidor de notebooks de IPython, y por lo tanto no se trataría ya de un simple programa de Python ejecutándose de manera independiente, como en los casos explicados anteriormente. Aparte de este detalle, no hay diferencias entre el código Python que habría que introducir en un fichero de código Python y el que escribiremos en un notebook IPython como este. "
   ]
  },
  {
   "cell_type": "markdown",
   "metadata": {},
   "source": [
    "# Operaciones básicas con números y/o variables"
   ]
  },
  {
   "cell_type": "code",
   "execution_count": 4,
   "metadata": {},
   "outputs": [
    {
     "data": {
      "text/plain": [
       "5"
      ]
     },
     "execution_count": 4,
     "metadata": {},
     "output_type": "execute_result"
    }
   ],
   "source": [
    "2+3  # suma"
   ]
  },
  {
   "cell_type": "code",
   "execution_count": 5,
   "metadata": {},
   "outputs": [
    {
     "data": {
      "text/plain": [
       "-4"
      ]
     },
     "execution_count": 5,
     "metadata": {},
     "output_type": "execute_result"
    }
   ],
   "source": [
    "3-7  # resta"
   ]
  },
  {
   "cell_type": "code",
   "execution_count": 6,
   "metadata": {},
   "outputs": [
    {
     "data": {
      "text/plain": [
       "20"
      ]
     },
     "execution_count": 6,
     "metadata": {},
     "output_type": "execute_result"
    }
   ],
   "source": [
    "4*5  # producto"
   ]
  },
  {
   "cell_type": "code",
   "execution_count": 7,
   "metadata": {},
   "outputs": [
    {
     "data": {
      "text/plain": [
       "1.25"
      ]
     },
     "execution_count": 7,
     "metadata": {},
     "output_type": "execute_result"
    }
   ],
   "source": [
    "5/4  # división"
   ]
  },
  {
   "cell_type": "code",
   "execution_count": 8,
   "metadata": {},
   "outputs": [
    {
     "data": {
      "text/plain": [
       "8"
      ]
     },
     "execution_count": 8,
     "metadata": {},
     "output_type": "execute_result"
    }
   ],
   "source": [
    "2**3  # exponenciación"
   ]
  },
  {
   "cell_type": "code",
   "execution_count": 9,
   "metadata": {
    "scrolled": true
   },
   "outputs": [],
   "source": [
    "a = 2; b = 3;  # así es como se suele dar valores a las variables"
   ]
  },
  {
   "cell_type": "code",
   "execution_count": 10,
   "metadata": {},
   "outputs": [
    {
     "data": {
      "text/plain": [
       "(5, 6)"
      ]
     },
     "execution_count": 10,
     "metadata": {},
     "output_type": "execute_result"
    }
   ],
   "source": [
    "a+b, a*b       # aquí estamos realizando operaciones de suma y producto"
   ]
  },
  {
   "cell_type": "code",
   "execution_count": 11,
   "metadata": {},
   "outputs": [
    {
     "data": {
      "text/plain": [
       "(2, 3)"
      ]
     },
     "execution_count": 11,
     "metadata": {},
     "output_type": "execute_result"
    }
   ],
   "source": [
    "# varios valores separados por comas conforman lo que se denomina una tupla\n",
    "a,b   # en este caso se trata de una simple pareja de valores"
   ]
  },
  {
   "cell_type": "markdown",
   "metadata": {},
   "source": [
    "# Módulos"
   ]
  },
  {
   "cell_type": "markdown",
   "metadata": {},
   "source": [
    "Por otra parte, la mayor functionalidad de Python se la proporcionarán los correspondientes *módulos* que cargemos. La biblioteca Estándar de Python es una enorme colección de módulos que  proporcionan una implementación independiente de la plataforma o sistema operativo  de todos las acciones más comunes, tales como el propio aceso el sistema operativo, operaciones de entrada y salida, trabajo con cadenas de caracteres (\"strings\" en inglés), comunicaciones, y mucho más."
   ]
  },
  {
   "cell_type": "markdown",
   "metadata": {},
   "source": [
    "Para usar alguna función o procedimiento incluido en un módulo en un programa Python éste tiene que ser cargado primero. Estos deberán ser importados usando la orden `import`. "
   ]
  },
  {
   "cell_type": "markdown",
   "metadata": {},
   "source": [
    "Por ejemplo, para importar por completo alguno de los módulos `NumPy`, `SciPy`, `SymPy`, `MatPlotlib` que contienen nuevas clases de objetos (como los 'arrays'), numerosas funciones matemáticas y numéricas, aparte de poder realizar cálculos simbólicos y obtener representaciones gráficas muy variadas, escribiríamos por ejemplo:"
   ]
  },
  {
   "cell_type": "code",
   "execution_count": 5,
   "metadata": {},
   "outputs": [],
   "source": [
    "from numpy import *  \n",
    "from sympy import *      \n",
    "from scipy import *      \n",
    "from matplotlib import *  "
   ]
  },
  {
   "cell_type": "markdown",
   "metadata": {},
   "source": [
    "Estas sentencias cargarían los módulos completos, haciéndo disponible su uso posterior en el programa o notebook."
   ]
  },
  {
   "cell_type": "markdown",
   "metadata": {},
   "source": [
    "Este patrón puede resultar conveniente, pero en programas de cierta envergadura, que incluyan numerosos módulos, puede resultar a menudo una buena idea mantener los símbolos y funciones de cada módulo en su propio entorno de nombres (\"namespace\" en inglés), usando simplemente el patrón `import módulo`. Esto elminaría problemas de confusión, con potenciales y posibles colisiones entre los nombres de funciones entre diferentes módulos."
   ]
  },
  {
   "cell_type": "markdown",
   "metadata": {},
   "source": [
    "### Consultando el contenido de un módulo, así como su documentación"
   ]
  },
  {
   "cell_type": "markdown",
   "metadata": {},
   "source": [
    "Una vez importado un módulo, podremos listar los símbolos y funciones que proporciona usando la función o comando `dir`:"
   ]
  },
  {
   "cell_type": "code",
   "execution_count": 6,
   "metadata": {},
   "outputs": [
    {
     "name": "stdout",
     "output_type": "stream",
     "text": [
      "['__doc__', '__file__', '__loader__', '__name__', '__package__', '__spec__', 'acos', 'acosh', 'asin', 'asinh', 'atan', 'atan2', 'atanh', 'ceil', 'copysign', 'cos', 'cosh', 'degrees', 'e', 'erf', 'erfc', 'exp', 'expm1', 'fabs', 'factorial', 'floor', 'fmod', 'frexp', 'fsum', 'gamma', 'gcd', 'hypot', 'inf', 'isclose', 'isfinite', 'isinf', 'isnan', 'ldexp', 'lgamma', 'log', 'log10', 'log1p', 'log2', 'modf', 'nan', 'pi', 'pow', 'radians', 'sin', 'sinh', 'sqrt', 'tan', 'tanh', 'tau', 'trunc']\n"
     ]
    }
   ],
   "source": [
    "import math\n",
    "print(dir(math))"
   ]
  },
  {
   "cell_type": "code",
   "execution_count": 8,
   "metadata": {},
   "outputs": [
    {
     "data": {
      "text/plain": [
       "2.302585092994046"
      ]
     },
     "execution_count": 8,
     "metadata": {},
     "output_type": "execute_result"
    }
   ],
   "source": [
    "# No obstante en este último caso tendremos que anteponer el nombre del módulo antes de cada una \n",
    "# de las funciones del módulo a usar\n",
    "math.log(10)"
   ]
  },
  {
   "cell_type": "code",
   "execution_count": 9,
   "metadata": {
    "scrolled": true
   },
   "outputs": [
    {
     "data": {
      "text/plain": [
       "3.141592653589793"
      ]
     },
     "execution_count": 9,
     "metadata": {},
     "output_type": "execute_result"
    }
   ],
   "source": [
    "math.pi"
   ]
  },
  {
   "cell_type": "markdown",
   "metadata": {},
   "source": [
    "También podemos importar sólo una selección de símbolos de un determinado módulo, listando explícitamente sólo aquellos que queramos importar, en vez de usar el carácter comodín `*`:"
   ]
  },
  {
   "cell_type": "code",
   "execution_count": 19,
   "metadata": {},
   "outputs": [],
   "source": [
    "from math import log, pi"
   ]
  },
  {
   "cell_type": "code",
   "execution_count": 20,
   "metadata": {},
   "outputs": [
    {
     "data": {
      "text/plain": [
       "2.302585092994046"
      ]
     },
     "execution_count": 20,
     "metadata": {},
     "output_type": "execute_result"
    }
   ],
   "source": [
    "log(10)"
   ]
  },
  {
   "cell_type": "code",
   "execution_count": 21,
   "metadata": {},
   "outputs": [
    {
     "data": {
      "text/plain": [
       "3.141592653589793"
      ]
     },
     "execution_count": 21,
     "metadata": {},
     "output_type": "execute_result"
    }
   ],
   "source": [
    "pi"
   ]
  },
  {
   "cell_type": "code",
   "execution_count": 13,
   "metadata": {},
   "outputs": [
    {
     "data": {
      "text/plain": [
       "pi/2"
      ]
     },
     "execution_count": 13,
     "metadata": {},
     "output_type": "execute_result"
    }
   ],
   "source": [
    "pi/2"
   ]
  },
  {
   "cell_type": "markdown",
   "metadata": {},
   "source": [
    "A su vez, usando la función de ayuda (`help`) también podremos obtener una descripción de cada una de las funciones (ya que casi todas, pero no todas las funciones poseen una adecuada documentación o \"docstrings\", pero la gran mayoría de ellas sí que estarán documentadas de esta manera). "
   ]
  },
  {
   "cell_type": "code",
   "execution_count": null,
   "metadata": {},
   "outputs": [],
   "source": [
    "help(math.log)"
   ]
  },
  {
   "cell_type": "code",
   "execution_count": null,
   "metadata": {},
   "outputs": [],
   "source": [
    "from math import log\n",
    "log(10.)"
   ]
  },
  {
   "cell_type": "code",
   "execution_count": null,
   "metadata": {},
   "outputs": [],
   "source": [
    "log(10, 2)"
   ]
  },
  {
   "cell_type": "markdown",
   "metadata": {},
   "source": [
    "Podemos también usar la función `help` directamente para módulos: Prueba por ejemplo\n",
    "\n",
    "    help(math) \n",
    "\n",
    "Algunos módulos muy útiles conforman las librerías estándar de Python  `os`, `sys`, `math`, `shutil`, `re`, `subprocess`, `multiprocessing`, `threading`. \n",
    "\n",
    "Una lista completa de los módulos estándar para Python 2 y Python 3 se tienen en http://docs.python.org/2/library/ y http://docs.python.org/3/library/, respectivamente."
   ]
  },
  {
   "cell_type": "markdown",
   "metadata": {},
   "source": [
    "### Importación con pseudónimo de los diferentes módulos de Python"
   ]
  },
  {
   "cell_type": "markdown",
   "metadata": {},
   "source": [
    "Como una tercera alternativa, que por otra parte es la más recomendada desde la comunidad de desarrolladores de Python, lo que se suele hacer es cargar los módulos más empleados de Python (consultar los links y referencias al final de este notebook) con un determinado pseudónimo, como veremos a continuación."
   ]
  },
  {
   "cell_type": "markdown",
   "metadata": {
    "scrolled": true
   },
   "source": [
    "Es habitual cargar alguno de estos módulos más empleados con un pseudónimo determinado\n",
    "\n",
    "import numpy as np              # aquí cargamos el módulo numpy con el pseudónimo np               \n",
    "import sympy as sp              # y el módulo sympy de cálculo simbólico como sp\n",
    "import matplotlib.pyplot as plt # este módulo nos permitirá obtener gráficos"
   ]
  },
  {
   "cell_type": "markdown",
   "metadata": {},
   "source": [
    "También se podrían cargar estos módulos sin pseudónimos, pero en ese caso tendríamos que anteponer el nombre completo del módulo delante de cada una de las funciones y procedimientos incluidos en dicho submódulo. Por ejemplo:\n",
    "numpy.sin(x) en vez de np.sin(x)  para usar y evaluar la función seno numéricamente\n",
    "sympy.sin(x) en vez de sp.sin(x)  si queremos realizar más bien cálculos simbólicos"
   ]
  },
  {
   "cell_type": "markdown",
   "metadata": {},
   "source": [
    "## Uso básico de los módulos fundamentales de Python"
   ]
  },
  {
   "cell_type": "code",
   "execution_count": 1,
   "metadata": {
    "scrolled": true
   },
   "outputs": [],
   "source": [
    "# Es habitual cargar alguno de estos módulos más empleados con un pseudónimo determinado\n",
    "import numpy as np              # aquí cargamos el módulo numpy con el pseudónimo np               \n",
    "import pandas as pd             # y el módulo por excelencia para tratamiento de datos\n",
    "import matplotlib.pyplot as plt # este módulo nos permitirá obtener gráficos de todo tipo\n",
    "%matplotlib inline              \n",
    "# esta opción de matplotlib será fundamental para poder visualizar los gráficos \n",
    "# incrustados en línea dentro del propio notebook "
   ]
  },
  {
   "cell_type": "code",
   "execution_count": 8,
   "metadata": {},
   "outputs": [],
   "source": [
    "a = 0; b = 10; nxx = 100;\n",
    "xx = np.linspace(a,b,nxx)          # generación de un array de abcisas con NumPy a modo MATLAB\n",
    "yy = np.array([x**2+1 for x in xx])  # evaluación de una función exponencial a través de una lista\n",
    "# por compresión y generación del correspondiente array de ordenadas"
   ]
  },
  {
   "cell_type": "code",
   "execution_count": 9,
   "metadata": {},
   "outputs": [
    {
     "data": {
      "image/png": "[encoded data removed]",
      "text/plain": [
       "<Figure size 432x288 with 1 Axes>"
      ]
     },
     "metadata": {
      "needs_background": "light"
     },
     "output_type": "display_data"
    }
   ],
   "source": [
    "plt.plot(xx,yy);    # esto sería lo básico para poder general y visualizar la gráfica\n",
    "plt.xlabel('x');    # aquí estamos poniendo etiqueta al eje Ox\n",
    "plt.ylabel('y');    # y aquí al eje Oy\n",
    "plt.title('gráfica de la función $x^2+1$');  # título del gráfico (nótese el código LaTeX)"
   ]
  },
  {
   "cell_type": "code",
   "execution_count": 26,
   "metadata": {},
   "outputs": [
    {
     "data": {
      "image/png": "[encoded data removed]",
      "text/plain": [
       "<Figure size 432x288 with 1 Axes>"
      ]
     },
     "metadata": {},
     "output_type": "display_data"
    }
   ],
   "source": [
    "plt.plot(yy,xx);   # ahora obtenemos otra gráfica de la función inversa\n",
    "plt.xlabel('y');    # aquí estamos poniendo etiqueta al eje Ox\n",
    "plt.ylabel('x');    # y aquí al eje Oy\n",
    "plt.title('gráfica de la función $\\sqrt{y-1}$'); # título del gráfico (nótese el código LaTeX)"
   ]
  },
  {
   "cell_type": "code",
   "execution_count": 27,
   "metadata": {},
   "outputs": [
    {
     "data": {
      "image/png": "[encoded data removed]",
      "text/plain": [
       "<Figure size 432x288 with 1 Axes>"
      ]
     },
     "metadata": {},
     "output_type": "display_data"
    }
   ],
   "source": [
    "# Ahora vamos a representar varias gráficas conjuntamente cada una con su etiqueta\n",
    "plt.plot(xx,yy, label = '$y = x^2+1$');         # nótese el código LaTeX\n",
    "plt.plot(yy,yy, label = '$y = x$');             # nótese el código LaTeX\n",
    "plt.plot(yy,xx, label = '$y =\\sqrt{x-1}$');     # nótese el código LaTeX\n",
    "plt.legend();                         # que luego incluiremos en la propia gráfica"
   ]
  },
  {
   "cell_type": "markdown",
   "metadata": {},
   "source": [
    "# Variables y tipos de objetos"
   ]
  },
  {
   "cell_type": "markdown",
   "metadata": {},
   "source": [
    "### Nombres de símbolos "
   ]
  },
  {
   "cell_type": "markdown",
   "metadata": {},
   "source": [
    "Los nombres de las variable en Python pueden contener caracteres alfanuméricos `a-z`, `A-Z`, `0-9` y alguno de los caracteres especiales como `_`, pero obligatoriamente deben de comenzar con una letra.\n",
    "\n",
    "Por convención, los nombres de variable empezarán con una letra minúscula, mientras que los nombres de \"Clases\" comenzarán con una letra mayúscula. \n",
    "\n",
    "Además, existe cierto número de palabras clave en Python que no pueden ser usadas como nombres de variables. Estas palabras clave son:\n",
    "\n",
    "    and, as, assert, break, class, continue, def, del, elif, else, except, \n",
    "    exec, finally, for, from, global, if, import, in, is, lambda, not, or,\n",
    "    pass, print, raise, return, try, while, with, yield\n",
    "\n",
    "Nota: Tenga cuidado con la palabra clave `lambda`, que podría habitualmente ser un nombre de variable en un programa científico. Pero al tratarse también de una palabra clave, no estaría permitido su uso como variable en este caso."
   ]
  },
  {
   "cell_type": "markdown",
   "metadata": {},
   "source": [
    "### Sentencias de asignación y tipos de variables"
   ]
  },
  {
   "cell_type": "markdown",
   "metadata": {},
   "source": [
    "\n",
    "El operador de asignación en Python es `=`. Python tiene un tipado de variables dinámico, lo que hace que no tengamos que especificar el tipo de una variable cuando la creamos.\n",
    "\n",
    "Asignando cierto valor a una nueva variable, estaríamos creando la variable con ese determinado tipo de partida:"
   ]
  },
  {
   "cell_type": "code",
   "execution_count": null,
   "metadata": {},
   "outputs": [],
   "source": [
    "# asignación de variables\n",
    "x = 1.0\n",
    "mi_variable = 12"
   ]
  },
  {
   "cell_type": "markdown",
   "metadata": {},
   "source": [
    "Así pues, aunque no haya sido explicitamente especificado, una variable sí que tendría un tipo asociado, derivado por cierto del valor que tenga asignado en ese momento (de ahí el término de tipaje dinámico)."
   ]
  },
  {
   "cell_type": "code",
   "execution_count": null,
   "metadata": {},
   "outputs": [],
   "source": [
    "type(x)"
   ]
  },
  {
   "cell_type": "markdown",
   "metadata": {},
   "source": [
    "Así pues, si le asignamos un nuevo valor a la variable, este tipo puede cambiar."
   ]
  },
  {
   "cell_type": "code",
   "execution_count": null,
   "metadata": {},
   "outputs": [],
   "source": [
    "x = 1\n",
    "type(x)"
   ]
  },
  {
   "cell_type": "code",
   "execution_count": null,
   "metadata": {},
   "outputs": [],
   "source": [
    "type(mi_variable)"
   ]
  },
  {
   "cell_type": "markdown",
   "metadata": {},
   "source": [
    "Si tratamos de usar una variable que aún no ha sido definida obtendríamos un `NameError`:"
   ]
  },
  {
   "cell_type": "code",
   "execution_count": null,
   "metadata": {},
   "outputs": [],
   "source": [
    "# Habría que descomentar la línea inferior antes de ejecutarla\n",
    "# print(y)"
   ]
  },
  {
   "cell_type": "markdown",
   "metadata": {},
   "source": [
    "### Tipos Fundamentales"
   ]
  },
  {
   "cell_type": "code",
   "execution_count": null,
   "metadata": {},
   "outputs": [],
   "source": [
    "# enteros\n",
    "x = 1\n",
    "type(x)"
   ]
  },
  {
   "cell_type": "code",
   "execution_count": null,
   "metadata": {},
   "outputs": [],
   "source": [
    "# números en coma flotante\n",
    "x = 1.0\n",
    "type(x)"
   ]
  },
  {
   "cell_type": "code",
   "execution_count": null,
   "metadata": {},
   "outputs": [],
   "source": [
    "# booleanos\n",
    "b1 = True\n",
    "b2 = False\n",
    "\n",
    "type(b1)"
   ]
  },
  {
   "cell_type": "markdown",
   "metadata": {},
   "source": [
    "## Operadores y comparaciones"
   ]
  },
  {
   "cell_type": "markdown",
   "metadata": {},
   "source": [
    "La mayor parte de los operadores y comparaciones que efectuemos en Python funcionarán como se espera:\n",
    "\n",
    "* Operadores Aritméticos `+`, `-`, `*`, `/`, `//` (división entera), '**' exponenciación, etc."
   ]
  },
  {
   "cell_type": "code",
   "execution_count": null,
   "metadata": {},
   "outputs": [],
   "source": [
    "1 + 2, 1 - 2, 1 * 2, 1 / 2    #  ¡atención con la división entera en Python 2.X!"
   ]
  },
  {
   "cell_type": "code",
   "execution_count": null,
   "metadata": {},
   "outputs": [],
   "source": [
    "1.0 + 2.0, 1.0 - 2.0, 1.0 * 2.0, 1.0 / 2.0"
   ]
  },
  {
   "cell_type": "code",
   "execution_count": null,
   "metadata": {},
   "outputs": [],
   "source": [
    "# También podemos forzar una división entera de números reales\n",
    "3.0 // 2.0"
   ]
  },
  {
   "cell_type": "code",
   "execution_count": null,
   "metadata": {},
   "outputs": [],
   "source": [
    "# Nótese que el operador exponenciación en python no es ^, sino **\n",
    "2 ** 2"
   ]
  },
  {
   "cell_type": "code",
   "execution_count": null,
   "metadata": {},
   "outputs": [],
   "source": [
    "# ^ más bien realiza una comparación \n",
    "# de la representación binaria de ambos operandos\n",
    "# y el resultado se vuelve a pasar a base 10\n",
    "1^2, 2^2, 2^3, 1^4"
   ]
  },
  {
   "cell_type": "markdown",
   "metadata": {},
   "source": [
    "## Por otro lado, el operador `/` siempre realizará una división en coma flotante, siempre que estemos usando una versión de Python 3.x.\n",
    "Sin embargo este no es el caso en Python 2.x, donde el resultado de `/` es siempre un entero si los operadores son enteros.\n",
    "para ser más específicos, `1/2 = 0.5` (`float`) en Python 3.x, y `1/2 = 0` (`int`) en Python 2.x (pero `1.0/2 = 0.5` en Python 2.x)."
   ]
  },
  {
   "cell_type": "markdown",
   "metadata": {},
   "source": [
    "* Los operadores booleanos serán `and`, `not`, `or`. "
   ]
  },
  {
   "cell_type": "code",
   "execution_count": null,
   "metadata": {},
   "outputs": [],
   "source": [
    "True and False"
   ]
  },
  {
   "cell_type": "code",
   "execution_count": null,
   "metadata": {},
   "outputs": [],
   "source": [
    "not False"
   ]
  },
  {
   "cell_type": "code",
   "execution_count": null,
   "metadata": {},
   "outputs": [],
   "source": [
    "True or False"
   ]
  },
  {
   "cell_type": "markdown",
   "metadata": {},
   "source": [
    "* Los operadores de comparación `>`, `<`, `>=` (mayor, menor, mayor o igual), `<=` (menor o igual), `==` igualdad, `is` identidad."
   ]
  },
  {
   "cell_type": "code",
   "execution_count": null,
   "metadata": {},
   "outputs": [],
   "source": [
    "2 > 1, 2 < 1"
   ]
  },
  {
   "cell_type": "code",
   "execution_count": null,
   "metadata": {},
   "outputs": [],
   "source": [
    "2 > 2, 2 < 2"
   ]
  },
  {
   "cell_type": "code",
   "execution_count": null,
   "metadata": {},
   "outputs": [],
   "source": [
    "2 >= 2, 2 <= 2"
   ]
  },
  {
   "cell_type": "code",
   "execution_count": null,
   "metadata": {},
   "outputs": [],
   "source": [
    "# igualdad\n",
    "[1,2] == [1,2]"
   ]
  },
  {
   "cell_type": "code",
   "execution_count": null,
   "metadata": {},
   "outputs": [],
   "source": [
    "# ¿objetos idénticos?\n",
    "l1 = l2 = [1,2]\n",
    "\n",
    "l1 is l2"
   ]
  },
  {
   "cell_type": "markdown",
   "metadata": {},
   "source": [
    "## Tipos compuestos: Strings, Listas y diccionarios"
   ]
  },
  {
   "cell_type": "markdown",
   "metadata": {},
   "source": [
    "### Strings (o cadenas de carácteres)"
   ]
  },
  {
   "cell_type": "markdown",
   "metadata": {},
   "source": [
    "Los strings serán el tipo de variable usado para almacenar mensajes de texto. "
   ]
  },
  {
   "cell_type": "code",
   "execution_count": null,
   "metadata": {},
   "outputs": [],
   "source": [
    "s = \"Hola mundo\"\n",
    "type(s)"
   ]
  },
  {
   "cell_type": "code",
   "execution_count": null,
   "metadata": {},
   "outputs": [],
   "source": [
    "# para obtener la longitud del string: el número de caracteres\n",
    "len(s)"
   ]
  },
  {
   "cell_type": "code",
   "execution_count": null,
   "metadata": {},
   "outputs": [],
   "source": [
    "# para reemplazar un substring (subconjunto de caracteres) en un \n",
    "# string con otra expresión, usaremos la función 'replace'\n",
    "s2 = s.replace(\"mundo\", \"amigo\")\n",
    "print(s2)"
   ]
  },
  {
   "cell_type": "markdown",
   "metadata": {},
   "source": [
    "Se puede indexar cada uno de los caracteres en un string usando `[]`, teniendo en cuenta eso sí, que el primer carácter empezará con el índice 0 y no el 1."
   ]
  },
  {
   "cell_type": "code",
   "execution_count": null,
   "metadata": {},
   "outputs": [],
   "source": [
    "s[0]"
   ]
  },
  {
   "cell_type": "markdown",
   "metadata": {},
   "source": [
    "**Aviso importante pues para usuarios habituales de MATLAB o Mathematica:** \n",
    "\n",
    "¡El indexado siempre empieza por 0!\n",
    "\n",
    "También podemos extraer una parte concreta del string usando la sintaxis `[inicio:final]`, que extraerá aquellos caracteres de la cadena comprendidos entre el índice `inicio` y `final` -1 (teniendo en cuenta lo ya resaltado anteriormente acerca de que el primer índice siempre será el 0 y que el carácter con índice `final` no será pues incluido:"
   ]
  },
  {
   "cell_type": "code",
   "execution_count": null,
   "metadata": {},
   "outputs": [],
   "source": [
    "str1=s[0:4]\n",
    "print(str1)"
   ]
  },
  {
   "cell_type": "code",
   "execution_count": null,
   "metadata": {},
   "outputs": [],
   "source": [
    "str2=s[4:5]\n",
    "print(str2)"
   ]
  },
  {
   "cell_type": "code",
   "execution_count": null,
   "metadata": {},
   "outputs": [],
   "source": [
    "str3=s[5:10]\n",
    "print(str3)"
   ]
  },
  {
   "cell_type": "markdown",
   "metadata": {},
   "source": [
    "Por otro lado, si omitimos alguno (o ambos) de los límites `inicio` o `final` en `[inicio:final]`, entonces por defecto se tomará el comienzo y/o el final de la cadena, respectivamente:"
   ]
  },
  {
   "cell_type": "code",
   "execution_count": null,
   "metadata": {},
   "outputs": [],
   "source": [
    "s[:4]"
   ]
  },
  {
   "cell_type": "code",
   "execution_count": null,
   "metadata": {},
   "outputs": [],
   "source": [
    "s[5:]"
   ]
  },
  {
   "cell_type": "code",
   "execution_count": null,
   "metadata": {},
   "outputs": [],
   "source": [
    "s[:]"
   ]
  },
  {
   "cell_type": "markdown",
   "metadata": {},
   "source": [
    "También podemos definir un paso de salto usando la sintaxis `[inicio:final:paso]` (el valor por defecto para `paso` es 1, como ya se ha visto más arriba):"
   ]
  },
  {
   "cell_type": "code",
   "execution_count": null,
   "metadata": {},
   "outputs": [],
   "source": [
    "s[::1]"
   ]
  },
  {
   "cell_type": "code",
   "execution_count": null,
   "metadata": {},
   "outputs": [],
   "source": [
    "s[::2], s[1::2]"
   ]
  },
  {
   "cell_type": "markdown",
   "metadata": {},
   "source": [
    "Esta técnica se denomina rebanadora (*slicing* en inglés). Puede consultar más acerca de la sintaxis correspondiente en: https://docs.python.org/3/library/functions.html"
   ]
  },
  {
   "cell_type": "markdown",
   "metadata": {},
   "source": [
    "De hecho Python tiene un conjunto muy rico de funciones para el procesamiento de texto. Consultar por ejemplo http://docs.python.org/3/library/string.html para más información."
   ]
  },
  {
   "cell_type": "markdown",
   "metadata": {},
   "source": [
    "#### Ejemplos de formateo de texto ('strings') "
   ]
  },
  {
   "cell_type": "code",
   "execution_count": null,
   "metadata": {},
   "outputs": [],
   "source": [
    "print(str1, 1.0, False, -1j)  \n",
    "# De hecho, la sentencia 'print' convierte todos\n",
    "# los argumentos a strings"
   ]
  },
  {
   "cell_type": "code",
   "execution_count": null,
   "metadata": {},
   "outputs": [],
   "source": [
    "print(str1 + str2 + str3) \n",
    "# los strings sumados con '+' simplemente son concatenados"
   ]
  },
  {
   "cell_type": "code",
   "execution_count": null,
   "metadata": {},
   "outputs": [],
   "source": [
    "# También podríamos simplemente haber escrito \n",
    "str1+str2+str3"
   ]
  },
  {
   "cell_type": "code",
   "execution_count": null,
   "metadata": {},
   "outputs": [],
   "source": [
    "print(\"value = %f\" % 1.0)       \n",
    "# podemos también usar un estilo de formateo tipo lenguaje fortran o C"
   ]
  },
  {
   "cell_type": "code",
   "execution_count": null,
   "metadata": {},
   "outputs": [],
   "source": [
    "# así podemos crear un string formateada como queramos\n",
    "s2 = \"valor1 = %.2f. valor2 = %d\" % (3.1415, 1.5)\n",
    "\n",
    "print(s2)"
   ]
  },
  {
   "cell_type": "code",
   "execution_count": null,
   "metadata": {},
   "outputs": [],
   "source": [
    "# otra alternativa más intuitiva y moderna sería la siguiente \n",
    "s3 = 'valor1 = {0}, valor2 = {1}'.format(3.1415, 1.5)\n",
    "\n",
    "print(s3)"
   ]
  },
  {
   "cell_type": "markdown",
   "metadata": {},
   "source": [
    "### Listas"
   ]
  },
  {
   "cell_type": "markdown",
   "metadata": {},
   "source": [
    "Las listas son muy similares a las cadenas de caracteres, excepto que cada elemento puede ser de cualquier tipo.\n",
    "\n",
    "La sintaxis para crear listas en Python es usando corchetes `[...]`:"
   ]
  },
  {
   "cell_type": "code",
   "execution_count": null,
   "metadata": {},
   "outputs": [],
   "source": [
    "l = [1,2,3,4]\n",
    "\n",
    "print(type(l))\n",
    "print(l)"
   ]
  },
  {
   "cell_type": "markdown",
   "metadata": {},
   "source": [
    "También podemos usar la misma técnica de rebanado o \"slicing\" que usamos con los strings para manipular listas:"
   ]
  },
  {
   "cell_type": "code",
   "execution_count": null,
   "metadata": {},
   "outputs": [],
   "source": [
    "print(l)\n",
    "\n",
    "print(l[1:3])\n",
    "\n",
    "print(l[::2])"
   ]
  },
  {
   "cell_type": "markdown",
   "metadata": {},
   "source": [
    "**Volvemos a recordar a los usuarios habituales de MATLAB o Mathematica ¡que el indexado en Python comienza en 0!** "
   ]
  },
  {
   "cell_type": "code",
   "execution_count": null,
   "metadata": {},
   "outputs": [],
   "source": [
    "l[0]"
   ]
  },
  {
   "cell_type": "markdown",
   "metadata": {},
   "source": [
    "Los elementos en una lista no tienen que ser del mismo tipo:"
   ]
  },
  {
   "cell_type": "code",
   "execution_count": null,
   "metadata": {},
   "outputs": [],
   "source": [
    "l = [1, 'a', 1.0, 1-2]\n",
    "\n",
    "print(l)"
   ]
  },
  {
   "cell_type": "markdown",
   "metadata": {},
   "source": [
    "A su vez, las listas en Python aparte de ser no homogéneas, también pueden anidarse arbitrariamente:"
   ]
  },
  {
   "cell_type": "code",
   "execution_count": null,
   "metadata": {},
   "outputs": [],
   "source": [
    "lista_anidada = [1, [2, [3, [4, [5]]]]]\n",
    "\n",
    "lista_anidada"
   ]
  },
  {
   "cell_type": "markdown",
   "metadata": {},
   "source": [
    "Las listas a su vez juegan un papel muy importante en Python. Por ejemplo serán usadas en bucles y otras estructuras de control de flujo (discutidas más abajo). También se dispone de un cierto número de convenientes funciones para generar listas de varios tipos, por ejemplo la función `range` :"
   ]
  },
  {
   "cell_type": "code",
   "execution_count": null,
   "metadata": {},
   "outputs": [],
   "source": [
    "inicio = 10\n",
    "final  = 30\n",
    "paso   = 2\n",
    "\n",
    "range(inicio, final, paso)"
   ]
  },
  {
   "cell_type": "code",
   "execution_count": null,
   "metadata": {},
   "outputs": [],
   "source": [
    "# En Python 3 range genera más bien un iterador\n",
    "# que puede convertirse en una lista usando 'list(...)'.\n",
    "# Pero esto no tiene ningún efecto en Python 2\n",
    "list(range(inicio, final, paso))"
   ]
  },
  {
   "cell_type": "code",
   "execution_count": null,
   "metadata": {},
   "outputs": [],
   "source": [
    "list(range(-10, 10))   # Nótese también que estos iteradores siempre llegan hasta el penúltimo valor\n",
    "# justo antes de alcanzar el valor final indicado"
   ]
  },
  {
   "cell_type": "code",
   "execution_count": null,
   "metadata": {},
   "outputs": [],
   "source": [
    "s"
   ]
  },
  {
   "cell_type": "code",
   "execution_count": null,
   "metadata": {},
   "outputs": [],
   "source": [
    "# Para convertir un string en una lista de caracteres podemos usar:\n",
    "s2 = list(s)\n",
    "\n",
    "s2"
   ]
  },
  {
   "cell_type": "code",
   "execution_count": null,
   "metadata": {},
   "outputs": [],
   "source": [
    "# Ordenando listas\n",
    "s2.sort()\n",
    "\n",
    "print(s2)"
   ]
  },
  {
   "cell_type": "markdown",
   "metadata": {},
   "source": [
    "#### Añadiendo, insertando, modificando, y eliminando elementos de listas"
   ]
  },
  {
   "cell_type": "code",
   "execution_count": null,
   "metadata": {},
   "outputs": [],
   "source": [
    "# Empezamos creando una nueva lista vacía\n",
    "l = []\n",
    "\n",
    "# y añadimos elementos usando `append`\n",
    "l.append(\"A\")\n",
    "l.append(\"d\")\n",
    "l.append(\"d\")\n",
    "\n",
    "print(l)"
   ]
  },
  {
   "cell_type": "markdown",
   "metadata": {},
   "source": [
    "Ahora podemos modificar listas asignandoles nuevos valores a ciertos elementos de la lista. Hablando en una jerga técnica, las listas son *mutables*."
   ]
  },
  {
   "cell_type": "code",
   "execution_count": null,
   "metadata": {},
   "outputs": [],
   "source": [
    "l[1] = \"p\"\n",
    "l[2] = \"p\"\n",
    "\n",
    "print(l)"
   ]
  },
  {
   "cell_type": "code",
   "execution_count": null,
   "metadata": {},
   "outputs": [],
   "source": [
    "l[1:3] = [\"d\", \"d\"]\n",
    "\n",
    "print(l)"
   ]
  },
  {
   "cell_type": "markdown",
   "metadata": {},
   "source": [
    "Podemos insertar un elemento en una posición specifica usando `insert`"
   ]
  },
  {
   "cell_type": "code",
   "execution_count": null,
   "metadata": {},
   "outputs": [],
   "source": [
    "l.insert(0, \"i\")\n",
    "l.insert(1, \"n\")\n",
    "l.insert(2, \"s\")\n",
    "l.insert(3, \"e\")\n",
    "l.insert(4, \"r\")\n",
    "l.insert(5, \"t\")\n",
    "l.insert(6, \"a\")\n",
    "l.insert(7, \"d\")\n",
    "l.insert(8, \"o\")\n",
    "\n",
    "print(l)"
   ]
  },
  {
   "cell_type": "markdown",
   "metadata": {},
   "source": [
    "Para eliminar el primer elemento con un valor específico usaremos 'remove'"
   ]
  },
  {
   "cell_type": "code",
   "execution_count": null,
   "metadata": {},
   "outputs": [],
   "source": [
    "l.remove(\"A\")\n",
    "\n",
    "print(l)"
   ]
  },
  {
   "cell_type": "code",
   "execution_count": null,
   "metadata": {},
   "outputs": [],
   "source": [
    "l.remove(\"d\")\n",
    "\n",
    "print(l)         # nótese que sólo elimina la primera coincidencia encontrada\n",
    "# y en caso de no encontrarse el valor indicado eleva una excepción o error\n",
    "# para comprobarlo, no tiene más que ejecutar repetidamente esta misma celdilla "
   ]
  },
  {
   "cell_type": "markdown",
   "metadata": {},
   "source": [
    "mientras que para eliminar el elemento en una posición específica usaremos más bien `del`:"
   ]
  },
  {
   "cell_type": "code",
   "execution_count": null,
   "metadata": {},
   "outputs": [],
   "source": [
    "del l[7]\n",
    "del l[6]\n",
    "\n",
    "print(l)"
   ]
  },
  {
   "cell_type": "markdown",
   "metadata": {},
   "source": [
    "Consultar `help(list)` para ver más detalles, o lea la documentación online al respecto "
   ]
  },
  {
   "cell_type": "code",
   "execution_count": null,
   "metadata": {},
   "outputs": [],
   "source": [
    "help(list)"
   ]
  },
  {
   "cell_type": "markdown",
   "metadata": {},
   "source": [
    "### Tuplas (\"Tuples\" en inglés)"
   ]
  },
  {
   "cell_type": "markdown",
   "metadata": {},
   "source": [
    "Las tuplas son parecidas a las listas, excepto en el hecho de que no pueden ser modificadas después de ser creadas; esto es son *inmutables*. \n",
    "\n",
    "En Python, las tuplas se crean usando la sintaxis `(..., ..., ...)`, o incluso sin paréntesis `..., ...`:"
   ]
  },
  {
   "cell_type": "code",
   "execution_count": null,
   "metadata": {},
   "outputs": [],
   "source": [
    "punto = (10, 20)\n",
    "\n",
    "print(punto, type(punto))"
   ]
  },
  {
   "cell_type": "code",
   "execution_count": null,
   "metadata": {},
   "outputs": [],
   "source": [
    "punto2 = 15, 25\n",
    "\n",
    "print(punto2, type(punto2))"
   ]
  },
  {
   "cell_type": "markdown",
   "metadata": {},
   "source": [
    "Podemos desempaquetar una tupla asignándola a una lista de variables separadas por comas:"
   ]
  },
  {
   "cell_type": "code",
   "execution_count": null,
   "metadata": {},
   "outputs": [],
   "source": [
    "x, y = punto\n",
    "\n",
    "print(\"x =\", x)\n",
    "print(\"y =\", y)"
   ]
  },
  {
   "cell_type": "markdown",
   "metadata": {},
   "source": [
    "Pero si intentamos asignar un nuevo valor a un cierto elemento de una tupla el intérprete de Python nos devolverá un error o excepción (bastará con descomentar la celdilla siguiente y ejecutarla):"
   ]
  },
  {
   "cell_type": "code",
   "execution_count": null,
   "metadata": {},
   "outputs": [],
   "source": [
    "# point[0] = 20"
   ]
  },
  {
   "cell_type": "markdown",
   "metadata": {},
   "source": [
    "## Control de  Flujo"
   ]
  },
  {
   "cell_type": "markdown",
   "metadata": {},
   "source": [
    "### Sentencias condicionales: if, elif, else"
   ]
  },
  {
   "cell_type": "markdown",
   "metadata": {},
   "source": [
    "La sintaxis de Python para la ejecución de órdenes condicionales de código usa las palabras clave `if`, `elif` (else if), `else`:"
   ]
  },
  {
   "cell_type": "code",
   "execution_count": null,
   "metadata": {},
   "outputs": [],
   "source": [
    "sentencia1 = False\n",
    "sentencia2 = False\n",
    "\n",
    "if sentencia1:\n",
    "    print(\"sentencia1 es Verdad\")\n",
    "    \n",
    "elif sentencia2:\n",
    "    print(\"sentencia2 es Verdad\")\n",
    "    \n",
    "else:\n",
    "    print(\"sentencia1 y sentencia2 son Falsas\")"
   ]
  },
  {
   "cell_type": "markdown",
   "metadata": {},
   "source": [
    "Aquí encontramos por primera vez una característica peculiar y algo inusual del lenguaje de programación Python: los bloques de programa vienen definidos por su nivel de indentación.\n",
    "\n",
    "Compare con el código equivalente en lenguaje C:\n",
    "\n",
    "\n",
    "    if (statement1)\n",
    "    {\n",
    "        printf(\"statement1 is True\\n\");\n",
    "    }\n",
    "    else if (statement2)\n",
    "    {\n",
    "        printf(\"statement2 is True\\n\");\n",
    "    }\n",
    "    else\n",
    "    {\n",
    "        printf(\"statement1 and statement2 are False\\n\");\n",
    "    }\n",
    "\n",
    "Vemos que en lenguaje C los bloques de programa vienen delimitados por llaves `{` y `}`. Por otra parte, el nivel de indentación (espacios en blanco antes de las sentencias del código) realmente no importan (siendo completamente opcionales).\n",
    "\n",
    "Sin embargo, en Python, la extensión y alcance de un bloque de código viene definido por el nivel de indentación (usualmente un tabulado o bien unos cuatro espacios en blanco). Esto significa que debemos ser cuidadosos para indentar correctamente nuestro código, si no queremos tener errores de sintaxis."
   ]
  },
  {
   "cell_type": "markdown",
   "metadata": {},
   "source": [
    "#### Ejemplos:"
   ]
  },
  {
   "cell_type": "code",
   "execution_count": null,
   "metadata": {},
   "outputs": [],
   "source": [
    "sentencia1 = sentencia2 = True\n",
    "\n",
    "if sentencia1:\n",
    "    if sentencia2:\n",
    "        print(\"ambas sentencia1 y setencia2 son verdad (True)\")"
   ]
  },
  {
   "cell_type": "code",
   "execution_count": null,
   "metadata": {},
   "outputs": [],
   "source": [
    "# ¡Mala indentación!\n",
    "if sentencia1:\n",
    "    if sentencia2:\n",
    "    print(\"ambas sentencia1 y setencia2 son verdad (True)\")  \n",
    "    # esta línea está mal indentada"
   ]
  },
  {
   "cell_type": "code",
   "execution_count": null,
   "metadata": {},
   "outputs": [],
   "source": [
    "sentencia1 = False \n",
    "\n",
    "if sentencia1:\n",
    "    print(\"imprime si la sentencia1 es verdad (True)\")\n",
    "    \n",
    "    print(\"todavía dentro del bloque if\")"
   ]
  },
  {
   "cell_type": "code",
   "execution_count": null,
   "metadata": {},
   "outputs": [],
   "source": [
    "if sentencia1:\n",
    "    print(\"imprime si la sentencia1 es verdad (True)\")\n",
    "    \n",
    "print(\"ya estamos fuera del bloque if\")"
   ]
  },
  {
   "cell_type": "markdown",
   "metadata": {},
   "source": [
    "## Bucles"
   ]
  },
  {
   "cell_type": "markdown",
   "metadata": {},
   "source": [
    "En Python, los bucles pueden programarse de diferentes formas, pero la más común es mediante la sentencia `for`, que se usa junto con objetos iterables, como las listas. Su sintaxis básica es:"
   ]
  },
  {
   "cell_type": "markdown",
   "metadata": {},
   "source": [
    "### **bucles `for` **:"
   ]
  },
  {
   "cell_type": "code",
   "execution_count": null,
   "metadata": {},
   "outputs": [],
   "source": [
    "for x in [1,2,3]:\n",
    "    print(x)"
   ]
  },
  {
   "cell_type": "markdown",
   "metadata": {},
   "source": [
    "El bucle `for` itera sobre los elementos de la lista suministrada, y ejecuta el bloque de código contenido dentro del bucle, una vez para cada elemento. Cualquier tipo de lista puede ser usada en un bucle `for`. Por ejemplo:"
   ]
  },
  {
   "cell_type": "code",
   "execution_count": null,
   "metadata": {},
   "outputs": [],
   "source": [
    "for x in range(4):        # por defecto range empieza en 0\n",
    "    print(x)"
   ]
  },
  {
   "cell_type": "markdown",
   "metadata": {},
   "source": [
    "Nota: ¡`range(4)` no incluye el 4 !"
   ]
  },
  {
   "cell_type": "code",
   "execution_count": null,
   "metadata": {},
   "outputs": [],
   "source": [
    "for x in range(-3,3):     # y nótese que siempre se para en el penúltimo valor anterior al final\n",
    "    print(x)"
   ]
  },
  {
   "cell_type": "code",
   "execution_count": null,
   "metadata": {},
   "outputs": [],
   "source": [
    "for palabra in [\"cálculo\", \"científico\", \"con\", \"Python\"]:\n",
    "    print(palabra)"
   ]
  },
  {
   "cell_type": "markdown",
   "metadata": {},
   "source": [
    "Para iterar sobre pares llave-valor (key-value) de un diccionario:"
   ]
  },
  {
   "cell_type": "code",
   "execution_count": null,
   "metadata": {},
   "outputs": [],
   "source": [
    "for llave, valor in parametros.items():\n",
    "    print(llave + \" = \" + str(valor))"
   ]
  },
  {
   "cell_type": "markdown",
   "metadata": {},
   "source": [
    "A veces es útil tener acceso a los indices de los valores mientras iteramos sobre una lista. Podemos usar la función `enumerate` para esto:"
   ]
  },
  {
   "cell_type": "code",
   "execution_count": null,
   "metadata": {},
   "outputs": [],
   "source": [
    "for indice, x in enumerate(range(-3,3)):\n",
    "    print(indice, x)"
   ]
  },
  {
   "cell_type": "markdown",
   "metadata": {},
   "source": [
    "### Compresión de listas:"
   ]
  },
  {
   "cell_type": "markdown",
   "metadata": {},
   "source": [
    "Una forma conveniente y compacta de inicializar listas es la siguiente:"
   ]
  },
  {
   "cell_type": "code",
   "execution_count": null,
   "metadata": {},
   "outputs": [],
   "source": [
    "lista1 = [x**2 for x in range(0,5)]\n",
    "\n",
    "print(lista1)"
   ]
  },
  {
   "cell_type": "markdown",
   "metadata": {},
   "source": [
    "###  Bucles `while`:"
   ]
  },
  {
   "cell_type": "code",
   "execution_count": null,
   "metadata": {},
   "outputs": [],
   "source": [
    "i = 0\n",
    "while i < 5:\n",
    "    print(i)  \n",
    "    i = i + 1   \n",
    "print(\"hecho\")\n",
    "# Nótese que la sentencia `print(\"hecho\")` no forma parte del cuerpo \n",
    "# de la sentencia `while` por la diferente indentación."
   ]
  },
  {
   "cell_type": "markdown",
   "metadata": {},
   "source": [
    "El anterior bucle 'while' sería equivalente al siguiente bucle 'for'\n",
    "\n",
    "for x in range(5): \n",
    "    print(x)\n",
    "print('hecho')\n",
    "\n",
    "comprobémoslo:"
   ]
  },
  {
   "cell_type": "code",
   "execution_count": null,
   "metadata": {},
   "outputs": [],
   "source": [
    "for x in range(5): \n",
    "    print(x)\n",
    "print('hecho')"
   ]
  },
  {
   "cell_type": "markdown",
   "metadata": {},
   "source": [
    "## Funciones"
   ]
  },
  {
   "cell_type": "markdown",
   "metadata": {},
   "source": [
    "Una función en Python se define usando la palabra clave `def`, seguida por un nombre de función, con sus correspondientes paréntesis `()`, y los dos puntos `:`. El código siguiente, con un nivel de indentación adicional, es el cuerpo de la función."
   ]
  },
  {
   "cell_type": "code",
   "execution_count": null,
   "metadata": {},
   "outputs": [],
   "source": [
    "def func0():   \n",
    "    print(\"prueba\")"
   ]
  },
  {
   "cell_type": "code",
   "execution_count": null,
   "metadata": {},
   "outputs": [],
   "source": [
    "func0()"
   ]
  },
  {
   "cell_type": "markdown",
   "metadata": {},
   "source": [
    "Opcionalmente, pero muy recomendado, sería la inclusión de una documentación (\"docstring\" en inglés), que no es más que una breve descripción del objetivo y comportamiento de la función que estamos definienco. Esta información debería estar justo debajo de la orden 'def', y antes de comience el código del cuerpo de la misma."
   ]
  },
  {
   "cell_type": "code",
   "execution_count": null,
   "metadata": {},
   "outputs": [],
   "source": [
    "def func1(s):\n",
    "    \"\"\"\n",
    "    Imprime un string 's' y nos dice cuantos caracteres tiene    \n",
    "    \"\"\"\n",
    "    \n",
    "    print(s + \" tiene \" + str(len(s)) + \" caracteres\")"
   ]
  },
  {
   "cell_type": "code",
   "execution_count": null,
   "metadata": {},
   "outputs": [],
   "source": [
    "help(func1)"
   ]
  },
  {
   "cell_type": "code",
   "execution_count": null,
   "metadata": {},
   "outputs": [],
   "source": [
    "func1(\"prueba\")"
   ]
  },
  {
   "cell_type": "markdown",
   "metadata": {},
   "source": [
    "Por otro lado, las funciones que devuelven un valor, ya sea del tipo que sea, usan la palabra clave `return`:"
   ]
  },
  {
   "cell_type": "code",
   "execution_count": null,
   "metadata": {},
   "outputs": [],
   "source": [
    "def cuadrado(x):\n",
    "    \"\"\"\n",
    "    Devuelve el cuadrado del número x.\n",
    "    \"\"\"\n",
    "    return x ** 2"
   ]
  },
  {
   "cell_type": "code",
   "execution_count": null,
   "metadata": {},
   "outputs": [],
   "source": [
    "cuadrado(4)"
   ]
  },
  {
   "cell_type": "markdown",
   "metadata": {},
   "source": [
    "Podemos devolver múltiples valores de una función usando tuplas (ver más arriba):"
   ]
  },
  {
   "cell_type": "code",
   "execution_count": null,
   "metadata": {},
   "outputs": [],
   "source": [
    "def potencias(x):\n",
    "    \"\"\"\n",
    "    Devuelve unas cuantas potencias de x.\n",
    "    \"\"\"\n",
    "    return x ** 2, x ** 3, x ** 4"
   ]
  },
  {
   "cell_type": "code",
   "execution_count": null,
   "metadata": {},
   "outputs": [],
   "source": [
    "potencias(3)"
   ]
  },
  {
   "cell_type": "code",
   "execution_count": null,
   "metadata": {},
   "outputs": [],
   "source": [
    "x2, x3, x4 = potencias(3)\n",
    "\n",
    "print(x3)"
   ]
  },
  {
   "cell_type": "markdown",
   "metadata": {},
   "source": [
    "###  Argumentos por defecto y palabras clave (\"keywords\") como argumentos"
   ]
  },
  {
   "cell_type": "markdown",
   "metadata": {},
   "source": [
    "En la propia definición de una función, podemos dar valores por defecto a los argumentos que puede tomar dicha función:"
   ]
  },
  {
   "cell_type": "code",
   "execution_count": null,
   "metadata": {},
   "outputs": [],
   "source": [
    "def mifuncion(x, p=2, debug=False):\n",
    "    if debug:\n",
    "        print(\"evaluando mifuncion para x = \" + str(x) \n",
    "              + \" usando un exponente p = \" + str(p))\n",
    "    return x**p"
   ]
  },
  {
   "cell_type": "markdown",
   "metadata": {},
   "source": [
    "De esta manera, si no proporcionamos ningún valor para el argumento correspondiente a `debug` cuando llamamos a la función `mifuncion` su valor por defecto será el valor indicado en la definición de la función:"
   ]
  },
  {
   "cell_type": "code",
   "execution_count": null,
   "metadata": {},
   "outputs": [],
   "source": [
    "mifuncion(5)"
   ]
  },
  {
   "cell_type": "code",
   "execution_count": null,
   "metadata": {},
   "outputs": [],
   "source": [
    "mifuncion(5, debug=True)"
   ]
  },
  {
   "cell_type": "code",
   "execution_count": null,
   "metadata": {},
   "outputs": [],
   "source": [
    "mifuncion(5, debug=True, p =3) # nótese la gran flexibilidad para cambiar el orden de los argumentos"
   ]
  },
  {
   "cell_type": "markdown",
   "metadata": {},
   "source": [
    "Sin embargo, si proporcionamos de manera explícita el nombre de los argumentos en la correspondiente llamada a la función, entonces ni siquiera es necesario que éstos vengan en el mismo orden en el que se definió la función. Esta propiedad se denomina argumentos por palabras claves (*keyword*), y a menudo es bastante útil para funciones con muchos argumentos opcionales, cuyo orden no tenemos que memorizar en absoluto."
   ]
  },
  {
   "cell_type": "code",
   "execution_count": null,
   "metadata": {},
   "outputs": [],
   "source": [
    "mifuncion(p=3, debug=True, x=7) # nótese la gran flexibilidad para cambiar el orden de los argumentos"
   ]
  },
  {
   "cell_type": "markdown",
   "metadata": {},
   "source": [
    "### Funciones sin nombre (o funciones \"lambda\")"
   ]
  },
  {
   "cell_type": "markdown",
   "metadata": {},
   "source": [
    "En Python podemos también crear funciones sin nombre, usando la palabra clave `lambda`:"
   ]
  },
  {
   "cell_type": "code",
   "execution_count": null,
   "metadata": {},
   "outputs": [],
   "source": [
    "f1 = lambda x: x**2\n",
    "    \n",
    "# es equivalente a \n",
    "\n",
    "def f2(x):\n",
    "    return x**2"
   ]
  },
  {
   "cell_type": "code",
   "execution_count": null,
   "metadata": {},
   "outputs": [],
   "source": [
    "f1(2), f2(2)"
   ]
  },
  {
   "cell_type": "markdown",
   "metadata": {},
   "source": [
    "Esta técnica es útil por ejemplo cuando queremos pasarle una simple función como argumento a otra función, como esta:"
   ]
  },
  {
   "cell_type": "code",
   "execution_count": null,
   "metadata": {},
   "outputs": [],
   "source": [
    "# map es a su vez una función incorporada en python que no hace más que aplicar la regla que le pasemos\n",
    "map(lambda x: x**2, range(-3,4))"
   ]
  },
  {
   "cell_type": "code",
   "execution_count": null,
   "metadata": {},
   "outputs": [],
   "source": [
    "# Pero en Python 3 podemos usar `list(...)` para convertir el correspondiente iterador/generador \n",
    "# en una lista explícita\n",
    "list(map(lambda x: x**2, range(-3,4)))"
   ]
  },
  {
   "cell_type": "markdown",
   "metadata": {},
   "source": [
    "## Excepciones y manejo de errores"
   ]
  },
  {
   "cell_type": "markdown",
   "metadata": {},
   "source": [
    "En Python los errores deben ser manejados con un languaje especial  construido expresamente y denominado \"Exceptions\". Así pues, cuando ocurre algún error se generan las denominadas excepciones, que pueden interrumpir el flujo normal del programa y llevarnos a otro punto concreto del código donde se han definido convenientemente otras sentencias para tratar estas excepciones."
   ]
  },
  {
   "cell_type": "markdown",
   "metadata": {},
   "source": [
    "Para generar una de estas excepciones podemos usar la sentencia `raise`, que toma un argumento que debe ser una instancia de la clase `BaseException` o cierta clase derivada de esta. "
   ]
  },
  {
   "cell_type": "code",
   "execution_count": 12,
   "metadata": {},
   "outputs": [
    {
     "ename": "Exception",
     "evalue": "descripción del error",
     "output_type": "error",
     "traceback": [
      "\u001b[1;31m---------------------------------------------------------------------------\u001b[0m",
      "\u001b[1;31mException\u001b[0m                                 Traceback (most recent call last)",
      "\u001b[1;32m<ipython-input-12-7bfad2ecaeed>\u001b[0m in \u001b[0;36m<module>\u001b[1;34m\u001b[0m\n\u001b[1;32m----> 1\u001b[1;33m \u001b[1;32mraise\u001b[0m \u001b[0mException\u001b[0m\u001b[1;33m(\u001b[0m\u001b[1;34m\"descripción del error\"\u001b[0m\u001b[1;33m)\u001b[0m\u001b[1;33m\u001b[0m\u001b[1;33m\u001b[0m\u001b[0m\n\u001b[0m",
      "\u001b[1;31mException\u001b[0m: descripción del error"
     ]
    }
   ],
   "source": [
    "raise Exception(\"descripción del error\")"
   ]
  },
  {
   "cell_type": "markdown",
   "metadata": {},
   "source": [
    "Un uso típico de una de tales excepciones es abortar ciertas funciones cuando ocurre alguna condición de error, por ejemplo:\n",
    "\n",
    "    def mi_funcion(argumentos):\n",
    "    \n",
    "        if not verify(argumentos):\n",
    "            raise Exception(\"Argumentos invalidos\")\n",
    "        \n",
    "        # aquí iría el resto del código"
   ]
  },
  {
   "cell_type": "markdown",
   "metadata": {},
   "source": [
    "Para captar errores generados por ciertas funciones y métodos de clases, o por el propio intérprete de Python, use las órdenes `try` y  `except`:\n",
    "\n",
    "    try:\n",
    "        # aquí iría el código normal\n",
    "    except:\n",
    "        # aquí iría el código para tratar de solucionar el error\n",
    "        # este código no se ejecutaría si no tiene lugar\n",
    "        # el error generado más arrriba\n",
    "\n",
    "Por ejemplo:"
   ]
  },
  {
   "cell_type": "code",
   "execution_count": 11,
   "metadata": {},
   "outputs": [
    {
     "name": "stdout",
     "output_type": "stream",
     "text": [
      "test\n",
      "<function test at 0x000001E2FF607CA0>\n"
     ]
    }
   ],
   "source": [
    "try:\n",
    "    print(\"test\")\n",
    "    # genera un error: la variable test no está definida\n",
    "    print(test)\n",
    "except:\n",
    "    print(\"Una excepción ha sido capturada\")"
   ]
  },
  {
   "cell_type": "markdown",
   "metadata": {},
   "source": [
    "Para obtener información acerca del error, podemos acceder a la instancia e la clase `Exception` que describe la excepción usando por ejemplo:\n",
    "\n",
    "    except Exception as e:"
   ]
  },
  {
   "cell_type": "code",
   "execution_count": 13,
   "metadata": {},
   "outputs": [
    {
     "name": "stdout",
     "output_type": "stream",
     "text": [
      "test\n",
      "<function test at 0x000001E2FF607CA0>\n"
     ]
    }
   ],
   "source": [
    "try:\n",
    "    print(\"test\")\n",
    "    # genera un error: la variable test no está definida\n",
    "    print(test)\n",
    "except Exception as e:\n",
    "    print(u\"Excepción capturada:  \" + str(e))   \n",
    "    # la 'u' delante del mensaje era necesaria sólo en Python 2.X \n",
    "    # para incluir caracteres acentuados."
   ]
  },
  {
   "cell_type": "markdown",
   "metadata": {},
   "source": [
    "## Versiones de los módulos de Python empleados"
   ]
  },
  {
   "cell_type": "code",
   "execution_count": null,
   "metadata": {},
   "outputs": [],
   "source": [
    "%load_ext version_information\n",
    "\n",
    "%version_information numpy, sympy, matplotlib, scipy, pandas "
   ]
  },
  {
   "cell_type": "markdown",
   "metadata": {
    "collapsed": true
   },
   "source": [
    "## Referencias y lecturas adicionales"
   ]
  },
  {
   "cell_type": "markdown",
   "metadata": {},
   "source": [
    " * La página oficial del lenguaje de programación Python: https://docs.python.org/3.5/library/\n",
    " * The Python Standard Library: http://docs.python.org/3/library/\n",
    " * Una guía de estilo para la programación con Python: http://www.python.org/dev/peps/pep-0008\n",
    " * Un libro gratis sobre programación con Python: http://www.greenteapress.com/thinkpython/\n",
    " * Otro buen libro de referencia sobre programación con Python: [Python Essential Reference](http://www.amazon.com/Python-Essential-Reference-4th-Edition/dp/0672329786)\n",
    " * Página web del proyecto SymPy: http://sympy.org/en/index.html\n",
    " * Version Online de SymPy para tests y demostraciones: http://live.sympy.org \n",
    " * Tutorial de NumPy: http://www.cs.man.ac.uk/~barry/mydocs/MyCOMP28512/MS18_Notes/Python/Tentative_NumPy_Tutorial.pdf\n",
    " * Una guía de Numpy para usuarios de MATLAB: http://www.solo.uqam.ca/eco8620/notes/Python/NumPy_for_Matlab_users_NumPy_v1.13.pdf\n",
    " * Documentación oficial del proyecto Scipy: https://scipy.org/\n",
    " * Un tutorial sobre cómo empezar a usar SciPy: http://docs.scipy.org/doc/scipy/reference/tutorial/index.html\n",
    " * La página web del proyecto matplotlib: http://www.matplotlib.org\n",
    " * Una extensa galeria que muestra varios tipos de gráficos creados con matplotlib: http://matplotlib.org/gallery.html \n",
    " * Un buen tutorial de matplotlib:\n",
    "http://www.loria.fr/~rougier/teaching/matplotlib\n",
    " * Otra buena referencia para matplotlib; \n",
    " http://scipy-lectures.github.io/matplotlib/matplotlib.html\n",
    " * Libro \"Learn Python the Hard Way\" http://learnpythonthehardway.org/book/\n",
    " * Python Tutor, para visualizar código Python paso a paso http://pythontutor.com/\n",
    " * Libro \"How To Think Like a Computer Scientist\": http://interactivepython.org/runestone/static/thinkcspy/toc.html\n",
    " * Project Euler: ejercicios para aprender Python https://projecteuler.net/problems\n",
    " * Python Challenge (!) http://www.pythonchallenge.com/"
   ]
  }
 ],
 "metadata": {
  "anaconda-cloud": {},
  "kernelspec": {
   "display_name": "Python 3",
   "language": "python",
   "name": "python3"
  },
  "language_info": {
   "codemirror_mode": {
    "name": "ipython",
    "version": 3
   },
   "file_extension": ".py",
   "mimetype": "text/x-python",
   "name": "python",
   "nbconvert_exporter": "python",
   "pygments_lexer": "ipython3",
   "version": "3.9.0"
  }
 },
 "nbformat": 4,
 "nbformat_minor": 1
}
