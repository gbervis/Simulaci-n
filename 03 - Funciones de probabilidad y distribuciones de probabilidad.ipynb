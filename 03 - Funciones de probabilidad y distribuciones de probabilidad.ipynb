{
 "cells": [
  {
   "cell_type": "code",
   "execution_count": 2,
   "metadata": {},
   "outputs": [],
   "source": [
    "# Paquete Numpy\n",
    "import numpy as np\n",
    "\n",
    "# Generación de números pseudoaleatorios\n",
    "from numpy import random as rd\n",
    "\n",
    "# Módulo para las gráficas\n",
    "from matplotlib import pyplot as plt\n",
    "\n",
    "# Análisis de datos\n",
    "import pandas as pd\n",
    "from pandas import DataFrame as df"
   ]
  },
  {
   "cell_type": "markdown",
   "metadata": {},
   "source": [
    "<h1 style=\"background-color:Green;font-size:36pt;color:white\">MODELOS DE SIMULACIÓN </h1>\n",
    "\n",
    "## Universidad Tecnológica La Salle - León, Nicaragua\n",
    "### Giusseppe Benito Bervis Quintero\n",
    "\n",
    "**El siguiente texto, con algunas modificaciones en su mayor parte fue tomado de:** https://relopezbriega.github.io/blog/2016/06/29/distribuciones-de-probabilidad-con-python/\n",
    "\n",
    "# Histogramas\n",
    "Una de las mejores maneras de describir una variable es representar los valores que aparecen en el conjunto de datos y el número de veces que aparece cada valor. La representación más común de una distribución es un histograma, que es un gráfico que muestra la frecuencia de cada valor.\n",
    "\n",
    "En Python, podemos graficar fácilmente un histograma con la ayuda de la función hist de matplotlib, simplemente debemos pasarle los datos y la cantidad de contenedores en los que queremos dividirlos. Por ejemplo, podríamos graficar el histograma de una distribución normal del siguiente modo.\n",
    "\n",
    "La función $\\texttt{numpy.hist(a,bins, range,               normed, weights, density)}$ sirve para graficar el histograma de un conjunto de datos.\n",
    "\n",
    "**Parámetros:** Álgunos parámetros se omitirán.\n",
    "- $\\texttt{a}$ : Es una estructura tipo “matriz”. Representa los datos de entrada para calcular el histograma.\n",
    "- $\\texttt{bins}$ : Es un entero, una cuerda o una secuencia de escalares. Representa el número de bin. Un bin es como un rango, por ejemplo, 0-5, 6-10, etc. Si bins es un número entero, entonces representa el número de bins igualmente espaciados. (Por defecto es 10)\n",
    "- $\\texttt{density}$ : Es un parámetro booleano. Si su valor es True, entonces calcula la probabilidad en lugar de calcular la frecuencia.\n",
    "\n",
    "\n",
    "**Ejercicio** En la variable \"datos\" se han generados 1000 números pseudoaleatorios siguiendo una distribución normal. Con la función \"hist\" de Matplotlib, genere el histograma de dichos datos. Considere las siguientes etiquetas en la gráfica:\n",
    "- Etiqueta del eje y: \"Frecuencia\"\n",
    "- Etiqueta del eje x: \"Valores\"\n",
    "- Etiqueta de la gráfica: \"Histograma\""
   ]
  },
  {
   "cell_type": "code",
   "execution_count": 8,
   "metadata": {},
   "outputs": [
    {
     "data": {
      "image/png": "[encoded data removed]",
      "text/plain": [
       "<Figure size 432x288 with 1 Axes>"
      ]
     },
     "metadata": {
      "needs_background": "light"
     },
     "output_type": "display_data"
    }
   ],
   "source": [
    "# Fijando una semilla al generador\n",
    "rd.seed(100)\n",
    "\n",
    "# Graficando histograma\n",
    "mu, sigma = 0, 0.2 # media y desvio estandar\n",
    "datos = np.random.normal(mu, sigma, 1000) #creando muestra de datos\n",
    "\n",
    "# histograma de distribución normal.\n",
    "plt.hist(datos, 20)\n",
    "\n",
    "# Etiquetas de la gráfica\n",
    "plt.ylabel('Frequencia') #Etiqueta del eje y\n",
    "plt.xlabel('Valores') #Etiqueta del eje x\n",
    "plt.title('Histograma') #Etiqueta de la gráfica\n",
    "plt.show()"
   ]
  },
  {
   "cell_type": "markdown",
   "metadata": {},
   "source": [
    "<h1 style=\"background-color:Green;font-size:20pt;color:white\"> Distribuciones de probabilidad discretas </h1> \n",
    "\n",
    "## Distribución de Bernoulli\n",
    "La Distribución de Bernoulli esta dada por la formula:\n",
    "$$p(x;p) = \\begin{cases}\n",
    "            p & \\text{si } x = 1 \\text{ (éxito)}\\\\\n",
    "            1-p & \\text{si } x = 0 \\text{ (fracaso)}\\\\\n",
    "            0, & \\text{en otro caso}\n",
    "            \\end{cases}$$\n",
    "\n",
    "En dónde el parámetro $p$ es la probabilidad de éxito en un solo ensayo, la probabilidad de fracaso por lo tanto va a ser $1−p$ (muchas veces expresada como $q$). Tanto $p$ como $q$ van a estar limitados al intervalo de cero a uno. La Distribución de Bernoulli describe un experimento probabilístico en donde el ensayo tiene dos posibles resultados, éxito o fracaso. Desde esta distribución se pueden deducir varias Funciones de Densidad de Probabilidad de otras distribuciones que se basen en una serie de ensayos independientes.\n",
    "\n",
    "**Ejercicio**Considere el experimento de lanzar una moneda y observar si sale cara. ¿Se puede representar con una v.a. de Bernoulli?\n",
    "\n",
    "Genere un programa que simule el lanzamiento de una moneda."
   ]
  },
  {
   "cell_type": "markdown",
   "metadata": {},
   "source": [
    "**Solución:** Evidentemente sí, porque los posibles resultados solo son 2.\n",
    "Defina la variable aleatoria $𝑋$ mediante\n",
    "\n",
    "$$X = \\begin{cases} 1, & \\text{ si sale cara}\\\\\n",
    "                    0, & \\text{ si sale cruz}\\end{cases}$$"
   ]
  },
  {
   "cell_type": "code",
   "execution_count": 17,
   "metadata": {},
   "outputs": [
    {
     "name": "stdout",
     "output_type": "stream",
     "text": [
      "1\n"
     ]
    }
   ],
   "source": [
    "# Generando el lanzamiento de la moneda\n",
    "x = rd.binomial(1,0.5)\n",
    "\n",
    "# Imprimiendo el valor\n",
    "print(x)"
   ]
  },
  {
   "cell_type": "markdown",
   "metadata": {},
   "source": [
    "## Distribución binomial\n",
    "\n",
    "La Distribución Binomial esta dada por la formula:\n",
    "$$p(x;n,p) = \\begin{cases} \n",
    "                    \\displaystyle \\binom{n}{x} p^x (1−p)^{n-x} & x = 0, 1, 2, \\ldots , n\\\\\n",
    "                    0, & \\text{en otro caso}\n",
    "              \\end{cases}$$\n",
    "\n",
    "En dónde $x$ con la condición $0 \\leq x \\leq n$ y el parámetro $n \\;\\;(n>0)$ son enteros; y el parámetro $p \\;\\; (0 \\leq p \\leq 1)$ es un número real. La Distribución Binomial describe la probabilidad de exactamente $x$ éxitos en $n$ pruebas si la probabilidad de éxito en una sola prueba es $p$.\n",
    "\n",
    "### Generación de números pseudoaleatiorios de Bernoulli\n",
    "La función $ \\texttt{numpy.random.binomial(n, p, size)}$ genera una lista de muestras de una distribución binomial.\n",
    "\n",
    "**Parámetros:**\n",
    "- $ \\texttt{n}$ : no. de ensayos de Bernoulli en el experimento\n",
    "- $ \\texttt{p}$ : es la probabilidad de éxito\n",
    "- $ \\texttt{size}$ : es la cantidad de veces que queremos que el experimento se repita. (Si se omite, su valor es 1)\n",
    "\n",
    "**Ejercicio** Genere un programa que simule el lanzamiento de una moneda, 10 veces seguidas. (Usando for, $n$ y el size de la función binomial)"
   ]
  },
  {
   "cell_type": "code",
   "execution_count": 18,
   "metadata": {},
   "outputs": [
    {
     "name": "stdout",
     "output_type": "stream",
     "text": [
      "1 1 0 0 0 1 1 0 1 0 "
     ]
    }
   ],
   "source": [
    "# usando for\n",
    "# Es útil para hacer una cuenta sobre valores específicos \n",
    "# de x o contar la cantidad de éxitos.\n",
    "\n",
    "for i in range(10):\n",
    "    x = rd.binomial(1,0.5)\n",
    "    # Imprimiendo los valores en la misma línea\n",
    "    print(x, end=\" \")"
   ]
  },
  {
   "cell_type": "code",
   "execution_count": 58,
   "metadata": {},
   "outputs": [
    {
     "name": "stdout",
     "output_type": "stream",
     "text": [
      "8\n"
     ]
    }
   ],
   "source": [
    "# usando n\n",
    "# Esto devuelve la cantidad de éxitos\n",
    "\n",
    "x = rd.binomial(10,0.5)\n",
    "print(x)"
   ]
  },
  {
   "cell_type": "code",
   "execution_count": 57,
   "metadata": {},
   "outputs": [
    {
     "name": "stdout",
     "output_type": "stream",
     "text": [
      "[0 1 0 0 1 1 1 0 0 0]\n"
     ]
    }
   ],
   "source": [
    "# usando size\n",
    "# Esto genera un arreglo. \n",
    "# Bueno para trabajar con los valores del arreglo\n",
    "\n",
    "x = rd.binomial(1,0.5,10)\n",
    "print(x)"
   ]
  },
  {
   "cell_type": "markdown",
   "metadata": {},
   "source": [
    "# Distribución Poisson\n",
    "\n",
    "La Distribución Poisson esta dada por la formula:\n",
    "$$ p(x; \\lambda ) = \\begin{cases}\n",
    "                    \\displaystyle \\frac{e^{- \\lambda} \\lambda^x}{x!} & x = 0,1,2, \\ldots\\\\\n",
    "                    0, & \\text{en otro caso}\n",
    "                     \\end{cases}$$\n",
    "En dónde $x$ es un entero $(x≥0)$ que respresenta la número de ocurrencias de un evento, y $\\lambda$ es el número de veces que se espera que ocurra el evento. \n",
    "\n",
    "La Distribución Poisson describe la probabilidad de encontrar exactamente $x$ eventos en un lapso de tiempo si los acontecimientos se producen de forma independiente a una velocidad constante $\\lambda$. Es una de las distribuciones más utilizadas en estadística con varias aplicaciones; como por ejemplo describir el número de fallos en un lote de materiales o la cantidad de llegadas por hora a un centro de servicios.\n",
    "\n",
    "### Generación de números pseudoaleatiorios de Poisson\n",
    "\n",
    "La función $\\texttt{numpy.random.poisson(lambda, size)}$ genera una lista de muestras de una distribución de Poisson.\n",
    "\n",
    "**Parámetros:**\n",
    "- $\\texttt{lambda}$ : no. de veces que se espera que ocurra el fenómeno\n",
    "- $\\texttt{size}$ : es la cantidad de veces que queremos que el experimento se repita. (Si se omite, su valor es 1)\n",
    "\n",
    "**Ejercicio** En una imprenta, se sabe que el $2 \\%$ de los libros encuadernados salen con una encuadernación defectuosa. De un lote de 400 libros, determine la probabilidad de que salgan 5 libros con encuadernación defectuosa."
   ]
  },
  {
   "cell_type": "code",
   "execution_count": 60,
   "metadata": {},
   "outputs": [
    {
     "name": "stdout",
     "output_type": "stream",
     "text": [
      "La probabilidad de que salgan 8 libros defectuosos es 0.091593\n"
     ]
    }
   ],
   "source": [
    "# Contador del número de veces que salieron 5 libros \n",
    "# defectuosos\n",
    "cont = 0\n",
    "\n",
    "# Número de simulaciones\n",
    "n = 1000000\n",
    "\n",
    "for i in range(n):\n",
    "    # Generando la cantidad de libros de libros defectuosos\n",
    "    # 2% de 400 es 8, 8 libros se espera que salgan malos\n",
    "    x = rd.poisson(8)\n",
    "    \n",
    "    # La condición buscada\n",
    "    if(x == 5):\n",
    "        cont += 1\n",
    "\n",
    "# Calculando la probabilidad\n",
    "prob = cont / n\n",
    "\n",
    "# Imprimiendo\n",
    "print(\"La probabilidad de que salgan 5 libros defectuosos es\",prob)\n"
   ]
  },
  {
   "cell_type": "markdown",
   "metadata": {},
   "source": [
    "<h1 style=\"background-color:Green;font-size:20pt;color:white\"> Distribuciones de probabilidad continuas </h1> \n",
    "\n",
    "# Distribución uniforme\n",
    "\n",
    "La Distribución Uniforme es un caso muy simple expresada por la función:\n",
    "$$f(x; a,b) = \\frac{1}{b-a} \\text{ para } a \\leq x \\leq b $$\n",
    "\n",
    "Su función de distribución esta entonces dada por:\n",
    "\n",
    "$$ p(x; a,b ) = \\begin{cases}\n",
    "                    0 & \\text{si } x \\leq a\\\\\n",
    "                    \\displaystyle \\frac{x-a}{b-a} & \\text{si } a \\leq x \\leq b\\\\\n",
    "                    1, & \\text{si } x \\geq b\n",
    "                     \\end{cases}$$\n",
    "                     \n",
    "Todos los valores tienen prácticamente la misma probabilidad.\n",
    "\n",
    "### Generación de números pseudoaleatiorios con probabilidad uniforme\n",
    "\n",
    "La función $\\texttt{numpy.random.uniform(a,b,size)}$ genera valores reales con una distribución uniforme en el intervalo semicerrado [a,b)\n",
    "\n",
    "**Parámetros:**\n",
    "- $\\texttt{a}$ : extremo inferior del intervalo (inclusivo).\n",
    "- $\\texttt{b}$: extremo superior del intervalo (exclusivo).\n",
    "- $\\texttt{size}$ : entero o tupla de enteros. (Si se omite, su valor es 1)\n",
    "\n",
    "\n",
    "**Ejercicio** Usando la función $\\texttt{uniform}$, genere 100000 números pseudoaleatorios entre 5 y 10. Con la función \"hist\" de Matplotlib, genere el histograma de dichos números. Considere las siguientes etiquetas en la gráfica:\n",
    "- Etiqueta del eje y: \"Probabilidad\"\n",
    "- Etiqueta del eje x: \"Valores\"\n",
    "- Etiqueta de la gráfica: \"Histograma\""
   ]
  },
  {
   "cell_type": "code",
   "execution_count": 124,
   "metadata": {},
   "outputs": [
    {
     "data": {
      "image/png": "[encoded data removed]",
      "text/plain": [
       "<Figure size 432x288 with 1 Axes>"
      ]
     },
     "metadata": {
      "needs_background": "light"
     },
     "output_type": "display_data"
    }
   ],
   "source": [
    "# Generando los valores aleatorios entre 5 y 10\n",
    "datos = rd.uniform(5,10, 100000)\n",
    "\n",
    "# histograma de distribución normal.\n",
    "plt.hist(datos, 100, density = True)\n",
    "\n",
    "# Etiquetas de la gráfica\n",
    "plt.ylabel('Probabilidad') #Etiqueta del eje y\n",
    "plt.xlabel('Valores') #Etiqueta del eje x\n",
    "plt.title('Histograma') #Etiqueta de la gráfica\n",
    "plt.show()"
   ]
  },
  {
   "cell_type": "markdown",
   "metadata": {},
   "source": [
    "\n",
    "# Distribución normal\n",
    "\n",
    "La Distribución Normal, o también llamada Distribución de Gauss, es aplicable a un amplio rango de problemas, lo que la convierte en la distribución más utilizada en estadística; esta dada por la formula:\n",
    "\n",
    "$$ p(x; \\mu, \\sigma ) = \\frac{1}{\\sigma \\sqrt{2\\pi}} e^{-\\frac{(x-\\mu)^2}{2 \\sigma^2}}$$\n",
    "                     \n",
    "En dónde $\\mu$ es el parámetro de ubicación, y va a ser igual a la media aritmética y $\\sigma^2$ es el desvío estándar. Algunos ejemplos de variables asociadas a fenómenos naturales que siguen el modelo de la Distribución Normal son:\n",
    "\n",
    "- características morfológicas de individuos, como la estatura;\n",
    "- características sociológicas, como el consumo de cierto producto por un mismo grupo de individuos;\n",
    "- características psicológicas, como el cociente intelectual;\n",
    "- ivel de ruido en telecomunicaciones;\n",
    "- errores cometidos al medir ciertas magnitudes;\n",
    "- etc.\n",
    "\n",
    "### Generación de números pseudoaleatiorios con probabilidad uniforme\n",
    "\n",
    "La función $\\texttt{numpy.random.normal(mu, sigma, size)}$ genera valores reales con una distribución normal con media $\\mu$ y desviación estándar $\\sigma$.\n",
    "\n",
    "**Parámetros:**\n",
    "- $\\texttt{mu}$ : media.\n",
    "- $\\texttt{sigma}$: varianza.\n",
    "- $\\texttt{size}$ : entero. (Si se omite, su valor es None)\n",
    "\n",
    "\n",
    "**Ejercicio** Usando la función $\\texttt{normal}$, genere 100000 números pseudoaleatorios con media 0 y desviación estándar 1. Con la función \"hist\" de Matplotlib, genere el histograma de dichos datos. Considere las siguientes etiquetas en la gráfica:\n",
    "- Etiqueta del eje y: \"Probabilidad\"\n",
    "- Etiqueta del eje x: \"Valores\"\n",
    "- Etiqueta de la gráfica: \"Histograma\""
   ]
  },
  {
   "cell_type": "code",
   "execution_count": 125,
   "metadata": {},
   "outputs": [
    {
     "data": {
      "image/png": "[encoded data removed]",
      "text/plain": [
       "<Figure size 432x288 with 1 Axes>"
      ]
     },
     "metadata": {
      "needs_background": "light"
     },
     "output_type": "display_data"
    }
   ],
   "source": [
    "# Generando los valores aleatorios entre 0 y 1\n",
    "# con una distribución normal\n",
    "datos = rd.normal(0,1, 100000)\n",
    "\n",
    "# histograma de distribución normal.\n",
    "plt.hist(datos, 100, density = True)\n",
    "\n",
    "# Etiquetas de la gráfica\n",
    "plt.ylabel('Probabilidad') #Etiqueta del eje y\n",
    "plt.xlabel('Valores') #Etiqueta del eje x\n",
    "plt.title('Histograma') #Etiqueta de la gráfica\n",
    "plt.show()"
   ]
  }
 ],
 "metadata": {
  "kernelspec": {
   "display_name": "Python 3",
   "language": "python",
   "name": "python3"
  },
  "language_info": {
   "codemirror_mode": {
    "name": "ipython",
    "version": 3
   },
   "file_extension": ".py",
   "mimetype": "text/x-python",
   "name": "python",
   "nbconvert_exporter": "python",
   "pygments_lexer": "ipython3",
   "version": "3.9.0"
  }
 },
 "nbformat": 4,
 "nbformat_minor": 4
}
