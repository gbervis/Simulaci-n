{
 "cells": [
  {
   "cell_type": "code",
   "execution_count": 71,
   "metadata": {},
   "outputs": [],
   "source": [
    "# Paquete Numpy\n",
    "import numpy as np\n",
    "\n",
    "# Generación de números pseudoaleatorios\n",
    "from numpy import random as rd\n",
    "\n",
    "# Módulo para las gráficas\n",
    "from matplotlib import pyplot as plt\n",
    "\n",
    "# Para obtener los valores de la t-student y la normal\n",
    "from scipy.stats import t\n",
    "from scipy.stats import norm as z"
   ]
  },
  {
   "cell_type": "markdown",
   "metadata": {},
   "source": [
    "<h1 style=\"background-color:Green;font-size:36pt;color:white\">MODELOS DE SIMULACIÓN </h1>\n",
    "\n",
    "## Universidad Tecnológica La Salle - León, Nicaragua\n",
    "### Giusseppe Benito Bervis Quintero\n",
    "\n",
    "La mayor parte del contenido teórico de este cuaderno fue tomado de:\n",
    "https://joanby.github.io/bookdown-estadistica-inferencial/intervalos-de-confianza.html\n",
    "\n",
    "# Teorema central del límite\n",
    "\n",
    "Si todas las muestras de un tamaño particular se seleccionan de cualquier población, la distribución muestral de la media se aproxima a una distribución normal; esta mejora con muestras más grandes.\n",
    "\n",
    "# Intervalos de confianza\n",
    "\n",
    "Una estimación por intervalos de un parámetro poblacional es una regla para calcular, a partir de una muestra, un intervalo en el que, con una cierta probabilidad (nivel de confianza), se encuentra el valor verdadero del parámetro.\n",
    "\n",
    "Estas reglas definirán, a su vez, estimadores.\n",
    "\n",
    "Intervalo de confianza. Dado un parámetro $\\theta$, el intervalo $\\theta$   es un intervalo de confianza del $(1− \\alpha) \\cdot 100\\%$ para al parámetro $\\theta$ cuando $P(A < \\theta < B) = 1−\\alpha$.\n",
    " \n",
    "El valor $(1 − \\alpha ) \\cdot 100\\%$ (o contiene solo el $1 − \\alpha$) recibe el nombre de nivel de confianza.\n",
    "\n",
    "El valor $\\alpha$ recibe el nombre de nivel de significación.\n",
    "\n",
    "Por defecto, buscaremos intervalos bilaterales tales que la cola de probabilidad sobrante $\\alpha$ se reparta por igual a cada lado del intervalo:\n",
    "\n",
    "$$P(\\theta < A) = P(\\theta >B) = \\frac{\\alpha}{2}$$\n",
    "\n",
    "\n",
    "Por ejemplo, para buscar un intervalo de confianza $\\theta$ del  \n",
    "$95\\%$, buscaremos valores $A,B$ de manera que\n",
    "\n",
    "$$P(\\theta < A) = 0.025 \\mbox{ y } P(\\theta >B)= 0.025$$\n",
    "\n",
    "## Estructura de los intervalos de confianza\n",
    "\n",
    "Estimador Puntual $\\pm$ Margen de Error \n",
    "\n",
    "Los niveles de confianza más usados son 90%, 95% y 99%. \n",
    "\n",
    "- Intervalos de confianza para la media poblacional ($\\mu$): \n",
    "\n",
    "$$𝑋 \\pm \\mbox{𝑚𝑎𝑟𝑔𝑒𝑛 𝑑𝑒 𝑒𝑟𝑟𝑜𝑟} $$\n",
    "\n",
    "- Intervalos de confianza para la proporción poblacional ($𝑝$):  \n",
    "$$\\hat{p} \\pm \\mbox{𝑚𝑎𝑟𝑔𝑒𝑛 𝑑𝑒 𝑒𝑟𝑟𝑜𝑟} $$\n",
    "\n",
    "\n",
    "## Intervalos de confianza para el parámetro $\\mu$ de una población con  $\\sigma$ desconocida\n",
    "\n",
    "**Teorema:** Sea $X \\sim N(\\mu, \\sigma)$. Sea $X_1, X_2, \\ldots, X_n$ una muestra aleatoria simple (m.a.s) de $X$, con media $\\overline{X}$ y desviación estándar muestral $S_X$. Entonces, la variable aleatoria $t = \\frac{\\overline{X} - \\mu}{S_X / \\sqrt{n}}$ sigue una distribución $t$ de Student con $n -1$ grados de libertad, $t_{n-1}$.\n",
    "\n",
    "Considere la siguiente situación:\n",
    "- $X$ una v.a. cualquiera con media poblacional $\\mu$ desconocida y desvación estándar $\\sigma$ desconocida.\n",
    "- $X_1, X_2, \\ldots, X_n$ una m.a.s. de $X$ de tamaño $n$, con media $\\overline{X}$ y desviación estándar $S_X$.\n",
    "- $n$ es grande. ($n \\geq 40$) Esto en simulación no es problema.\n",
    "\n",
    "Para crear un intervalo de confianza de la media poblacional con una desviación estándar desconocida:\n",
    "1. Suponga que la población muestreada es normal o aproximadamente normal. De acuerdo al teorema central del límite, se sabe que este supuesto puede ser cuestionale en el caso de muestras pequeñas, y es más válida en el de muestras mayores.\n",
    "2. Estime la desviación estándar de la población $(\\sigma)$ con la desviación estándar de la muestra $(S_X)$.\n",
    "3. Se busca en la tabla de la distribución $t$, el valor de $t_{n-1, \\alpha/2}$.\n",
    "4. El intervalo de confianza correspondiente es:\n",
    "$${\\large \\overline{X} \\pm t_{n-1, \\alpha/2} \\frac{S_X}{\\sqrt{n}}}$$"
   ]
  },
  {
   "cell_type": "markdown",
   "metadata": {},
   "source": [
    "**Ejercicio:** El gerente de Inlet Square Mall, cerca de Ft. Myers, Florida, desea estimar la cantidad media que gastan los clientes que visitan el centro comercial. Una muestra de 20 clientes revela las siguientes cantidades.\n",
    "\n",
    "<table>\n",
    "  <tr>\n",
    "    <td>48.16</td>\n",
    "    <td>42.22</td>\n",
    "    <td>46.82</td>\n",
    "    <td>51.45</td>\n",
    "    <td>23.78</td>\n",
    "    <td>41.86</td>\n",
    "    <td>54.86</td>\n",
    "  <tr>\n",
    "  <tr>\n",
    "    <td>37.92</td>\n",
    "    <td>52.64</td>\n",
    "    <td>48.59</td>\n",
    "    <td>50.82</td>\n",
    "    <td>46.94</td>\n",
    "    <td>61.83</td>\n",
    "    <td>61.69</td>\n",
    "  <tr>\n",
    "  <tr>\n",
    "    <td>49.17</td>\n",
    "    <td>61.46</td>\n",
    "    <td>51.35</td>\n",
    "    <td>52.68</td>\n",
    "    <td>58.84</td>\n",
    "    <td>43.88</td>\n",
    "</table>\n",
    "\n",
    "- ¿Cuál es la estimación de la media poblacional?\n",
    "- Determine un intervalo de confianza de 95% e interprete el resultado.\n",
    "- ¿Concluiría de forma razonableque la media poblacional es de 50 o 60 dólares?"
   ]
  },
  {
   "cell_type": "code",
   "execution_count": 45,
   "metadata": {},
   "outputs": [
    {
     "name": "stdout",
     "output_type": "stream",
     "text": [
      "El intervalo de confianza para la media es: (45.236999016810785, 53.45900098318921)\n"
     ]
    }
   ],
   "source": [
    "# Introduciendo los valores\n",
    "x = [48.16, 42.22, 46.82, 51.45, 23.78, 41.86, 54.86, 37.92, \n",
    "     52.64, 48.59, 50.82, 46.94, 61.83, 61.69, 49.17, 61.46, \n",
    "     51.35, 52.68, 58.84, 43.88]\n",
    "\n",
    "# Calculando la media\n",
    "X = np.mean(x)\n",
    "\n",
    "# Calculando la desviación estándar\n",
    "Sx = np.std(x)\n",
    "\n",
    "# Calculando el intervalo de confianza\n",
    "t_n = t.ppf(0.975, 19)\n",
    "ext_inf = X - t_n * Sx / np.sqrt(20) # Extremo inferior del intervalo\n",
    "ext_sup = X + t_n * Sx / np.sqrt(20) # Extremo superior del intervalo\n",
    "print('El intervalo de confianza para la media es:', (ext_inf, ext_sup))"
   ]
  },
  {
   "cell_type": "markdown",
   "metadata": {},
   "source": [
    "# Comprendiendo los intervalos de confianza\n",
    "\n",
    "**Ejercicio:** Consideramos una población de $10^6$ valores de una distribución normal con $\\mu = 1.5$ y $\\sigma = 1$ (estos son los valores teóricos).\n",
    "- Genere 100 muestras aleatorias simples de tamaño 50 tomados de dicha población. \n",
    "- Para cada muestra calcule un intervalo de confianza al 95% de confianza para el parámetro $\\mu$.\n",
    "- Genere una gráfica, donde se visualicen los intervalos de confianza generados. Grafíque en rojo aquellos intervalos que no contengan al valor teórico de la media $(\\mu)$."
   ]
  },
  {
   "cell_type": "code",
   "execution_count": 63,
   "metadata": {},
   "outputs": [
    {
     "data": {
      "image/png": "[encoded data removed]",
      "text/plain": [
       "<Figure size 432x288 with 1 Axes>"
      ]
     },
     "metadata": {
      "needs_background": "light"
     },
     "output_type": "display_data"
    }
   ],
   "source": [
    "# Generando la población\n",
    "Poblacion = rd.normal(1.5, 1, 10**6)\n",
    "\n",
    "# Generando las 100 muestras de tamaño 50\n",
    "Muestra = rd.choice(Poblacion, size = (100, 50), replace = False)\n",
    "\n",
    "# Calculando el valor de la t_student\n",
    "t_n = t.ppf(0.975, 49)\n",
    "\n",
    "# Calculando los int. de confianza para cada muestra\n",
    "for i in range(len(Muestra)):\n",
    "    x = Muestra[i] # Tomando la muestra\n",
    "    X = np.mean(x) # Media muestral\n",
    "    Sx = np.std(x) # Varianza muestral\n",
    "    \n",
    "    # Calculando los extremos inferior y superior del intervalo\n",
    "    ext_inf = X - t_n * Sx / np.sqrt(50)\n",
    "    ext_sup = X + t_n * Sx / np.sqrt(50)\n",
    "    \n",
    "    # Si el extremo inferior es mayor que el valor teórito\n",
    "    # o si el extremo superior es menor que el valor teórico\n",
    "    # significa que el intervalo no contiene a dicho valor. (Gráficamos en rojo)\n",
    "    if ext_inf > 1.5 or ext_sup < 1.5:\n",
    "        plt.plot([ext_inf, ext_sup], [i, i], color = 'r')\n",
    "    # Caso contrario gráfiquemos en gris\n",
    "    else:\n",
    "        plt.plot([ext_inf, ext_sup], [i, i], color = 'grey')\n",
    "\n",
    "# Graficando el valor teórico\n",
    "plt.axvline(1.5, color = 'black', linestyle = '--', label = 'Media teórica')\n",
    "plt.legend()\n",
    "plt.title('Intervalos de confianza generados con las muestras aleatorias')\n",
    "plt.show()"
   ]
  },
  {
   "cell_type": "markdown",
   "metadata": {},
   "source": [
    "**Ejercicio:** Retome el ejemplo de la inversión de la impresora de B $\\&$ B. (Donde se guardan los valores en una lista)\n",
    "- Realice 100,000 simulaciones y cálcule un intervalo con el 99.99% confianza para la utilidad esperada. (Redondee a 2 decimales los resultadosm ya que se trata de dinero.)"
   ]
  },
  {
   "cell_type": "code",
   "execution_count": 81,
   "metadata": {},
   "outputs": [
    {
     "name": "stdout",
     "output_type": "stream",
     "text": [
      "La utilidad esperada es 708914.5915042999\n",
      "El intervalo de confianza para la probabilidad de pérdida es: (702795.54, 715033.65)\n"
     ]
    }
   ],
   "source": [
    "CMdO = [43, 44, 45, 46, 47] # Costo de mano de obra\n",
    "pCMdO = [0.1, 0.2, 0.4, 0.2, 0.1] # Probabilidad del costo de mano de obra\n",
    "\n",
    "n = 100000 # No. de simulaciones\n",
    "perdidas = [] # Lista de perdidas\n",
    "UtT = [] # Lista de las utilidades\n",
    "\n",
    "for i in range(n):\n",
    "    c1 = rd.choice(CMdO, p = pCMdO)\n",
    "    c2 = round(rd.uniform(80, 100), 2)\n",
    "    x =  np.absolute(round(rd.normal(15000, 4500), 0))\n",
    "\n",
    "    Ut = (249 - c1 -c2)*x - 1000000\n",
    "    UtT.append(Ut) # Actualización de la lista de utilidad total\n",
    "\n",
    "    if Ut <= 0:\n",
    "        perdidas.append(1)\n",
    "    else:\n",
    "        perdidas.append(0)\n",
    "\n",
    "pPerdidas = np.mean(perdidas) # Probabilidad de perder\n",
    "dsPerdidas = np.std(perdidas)# Desviación estándar de la probabilidad de perder\n",
    "#print(f'La probabilidad de perder es {pPerdidas}')\n",
    "\n",
    "UE = np.mean(UtT) # Utilidad esperada\n",
    "dsUE = np.std(UtT) \n",
    "print(f'La utilidad esperada es {UE}')\n",
    "\n",
    "t_n = t.ppf(0.9999, n - 1)\n",
    "r_n = np.sqrt(n)\n",
    "# Intervalo de confianza para la Utilidad Total\n",
    "ext_inf_Utilidad = np.round(UE - t_n * dsUE / r_n, 2)\n",
    "ext_sup_Utilidad = np.round(UE + t_n * dsUE /r_n, 2)\n",
    "print(f'El intervalo de confianza para la probabilidad de pérdida es: {ext_inf_Utilidad, ext_sup_Utilidad}')"
   ]
  },
  {
   "cell_type": "markdown",
   "metadata": {},
   "source": [
    "# Intervalos de confianza para la proporción $(p)$\n",
    "\n",
    "Si se desea construir un intervalo de confianza para la proporción poblacional $(p)$, el intervalo de confianza asociado será:\n",
    "$$ {\\large\\hat{p} \\pm z_{\\alpha / 2} \\displaystyle \\sqrt{\\frac{\\hat{p}(1-\\hat{p})}{n}}}$$"
   ]
  },
  {
   "cell_type": "markdown",
   "metadata": {},
   "source": [
    "**Ejercicio:** Del ejemplo de B $\\&$ B, realizado en la celda anterior.\n",
    "- Cálcule el intervalo de confianza para la probabilidad de pérdida. (Recuerde que este valor es una proporción. Redondee a 4 decimales los resultados.)."
   ]
  },
  {
   "cell_type": "code",
   "execution_count": 82,
   "metadata": {},
   "outputs": [
    {
     "name": "stdout",
     "output_type": "stream",
     "text": [
      "El intervalo de confianza para la probabilidad de pérdida es: (0.0822, 0.0887)\n"
     ]
    }
   ],
   "source": [
    "# Calculando los valores de la fórmula\n",
    "P = pPerdidas \n",
    "z_a = z.ppf(0.9999)\n",
    "raiz = np.sqrt((P*(1-P))/n)\n",
    "\n",
    "# Intervalo de confianza para la Probabilidad de pérdidas\n",
    "ext_inf_Perdidas = np.round(P - z_a * raiz, 4)\n",
    "ext_sup_Perdidas = np.round(P + z_a * raiz, 4)\n",
    "print(f'El intervalo de confianza para la probabilidad de pérdida es: {ext_inf_Perdidas, ext_sup_Perdidas}')"
   ]
  },
  {
   "cell_type": "markdown",
   "metadata": {},
   "source": [
    "**Solución:**"
   ]
  },
  {
   "cell_type": "markdown",
   "metadata": {},
   "source": [
    "**Ejercicio:** Retome el ejemplo de TIBASA, realice 10,000 simulaciones. (Donde se guardan los valores en una lista)\n",
    "- Determine un intervalo de confianza del 95% para la probabilidad buscada."
   ]
  },
  {
   "cell_type": "code",
   "execution_count": null,
   "metadata": {},
   "outputs": [],
   "source": []
  },
  {
   "cell_type": "code",
   "execution_count": null,
   "metadata": {},
   "outputs": [],
   "source": [
    "# Para hacer una tabla\n",
    "print('<table>')\n",
    "\n",
    "for j in range(0, len(x), 7):\n",
    "    for i in range(7):\n",
    "        if j > 13 and i == 6:\n",
    "            break\n",
    "        if i == 0:\n",
    "            print('  <tr>')\n",
    "        print(f'    <td>{x[j+i]}</td>')\n",
    "        if i == 6:\n",
    "            print('  <tr>')\n",
    "print('</table>')\n"
   ]
  },
  {
   "cell_type": "code",
   "execution_count": null,
   "metadata": {},
   "outputs": [],
   "source": [
    "CMdO = [43, 44, 45, 46, 47] # Costo de mano de obra\n",
    "pCMdO = [0.1, 0.2, 0.4, 0.2, 0.1] # Probabilidad del costo de mano de obra\n",
    "\n",
    "n = 200000 # No. de simulaciones\n",
    "perdidas = [] # Lista de perdidas\n",
    "UtT = [] # Lista de las utilidades\n",
    "\n",
    "for i in range(n):\n",
    "    c1 = rd.choice(CMdO, p = pCMdO)\n",
    "    c2 = round(rd.uniform(80, 100), 2)\n",
    "    x =  np.absolute(round(rd.normal(15000, 4500), 0))\n",
    "\n",
    "    Ut = (249 - c1 -c2)*x - 1000000\n",
    "    UtT.append(Ut) # Actualización de la lista de utilidad total\n",
    "\n",
    "    if Ut <= 0:\n",
    "        perdidas.append(1)\n",
    "    else:\n",
    "        perdidas.append(0)\n",
    "\n",
    "pPerdidas = np.mean(perdidas) # Probabilidad de perder\n",
    "dsPerdidas = np.std(perdidas)# Desviación estándar de la probabilidad de perder\n",
    "print(f'La probabilidad de perder es {pPerdidas}')\n",
    "\n",
    "UE = np.mean(UtT)\n",
    "dsUE = np.std(UtT)\n",
    "print(f'La utilidad esperada es {UE}')\n",
    "\n",
    "# Intervalo de confianza para la Probabilidad de pérdidas\n",
    "ext_inf_Perdidas = pPerdidas - t.ppf(1 - 0.05/2, n - 1) * dsPerdidas / np.sqrt(n)\n",
    "ext_sup_Perdidas = pPerdidas + t.ppf(1 - 0.05/2, n - 1) * dsPerdidas / np.sqrt(n)\n",
    "print(f'El intervalo de confianza para la probabilidad de pérdida es: {ext_inf_Perdidas, ext_sup_Perdidas}')\n",
    "\n",
    "# Intervalo de confianza para la Utilidad Total\n",
    "ext_inf_Utilidad = UE - t.ppf(1 - 0.05/2, n - 1) * dsUE / np.sqrt(n)\n",
    "ext_sup_Utilidad = UE + t.ppf(1 - 0.05/2, n - 1) * dsUE / np.sqrt(n)\n",
    "print(f'El intervalo de confianza para la probabilidad de pérdida es: {ext_inf_Utilidad, ext_sup_Utilidad}')"
   ]
  }
 ],
 "metadata": {
  "kernelspec": {
   "display_name": "Python 3",
   "language": "python",
   "name": "python3"
  },
  "language_info": {
   "codemirror_mode": {
    "name": "ipython",
    "version": 3
   },
   "file_extension": ".py",
   "mimetype": "text/x-python",
   "name": "python",
   "nbconvert_exporter": "python",
   "pygments_lexer": "ipython3",
   "version": "3.9.0"
  }
 },
 "nbformat": 4,
 "nbformat_minor": 4
}
