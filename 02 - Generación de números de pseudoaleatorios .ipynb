{
 "cells": [
  {
   "cell_type": "code",
   "execution_count": 2,
   "metadata": {},
   "outputs": [],
   "source": [
    "# Paquete Numpy\n",
    "import numpy as np\n",
    "\n",
    "# Generación de números pseudoaleatorios\n",
    "from numpy import random as rd\n",
    "\n",
    "# Módulo para las gráficas\n",
    "from matplotlib import pyplot as plt\n",
    "\n",
    "# Análisis de datos\n",
    "import pandas as pd\n",
    "from pandas import DataFrame as df"
   ]
  },
  {
   "cell_type": "markdown",
   "metadata": {},
   "source": [
    "<h1 style=\"background-color:Green;font-size:36pt;color:white\">MODELOS DE SIMULACIÓN </h1>\n",
    "\n",
    "## Universidad Tecnológica La Salle - León, Nicaragua\n",
    "### Giusseppe Benito Bervis Quintero\n",
    "\n",
    "# Generador de números pseudoaleatorios (GNPA)\n",
    "\n",
    "Cuando se tiene una simulación computacional que requiere una gran cantidad de números aleatorios son más prácticos y fiables algoritmos determinísticos, con alguna base matemática sólida, para generar números aleatorios, en comparación con métodos físicos como la extracción de bolas de una tómbola. \n",
    "\n",
    "La generación de sucesiones aleatorias reales utilizando algoritmos deterministas es imposible; a lo más, sucesiones **pseudoaleatorias** pueden ser generadas. Estas son, en apariencia, sucesiones aleatorias que en realidad son perfectamente predecibles y que se repiten después de cierta cantidad de ejecuciones. Un generador de números pseudoaleatorios es un algoritmo diseñado para producir una sucesión de números que aparentan ser generados aleatoriamente.\n",
    "\n",
    "## Formas de generación de números **pseudoaleatorios**\n",
    "\n",
    "Existen tres formas de obtener números uniformes: \n",
    "- La provisión externa, lo que implica tener números aleatorios calculados de antemano y tratar estos números como datos de entrada para el problema que se esta simulando. \n",
    "- La generación interna a partir de un proceso físico, lo que implica utilizar algún aditamento especial para registrar los resultados de un proceso aleatorio. \n",
    "- La generación interna de sucesiones por medio de una relación de recurrencia. Se produce una sucesión de números que asemeja, sin serlo realmente, una sucesión de realizaciones de variables aleatorias independientes e idénticamente distribuidas U(0,1). Es así que estos números se llaman **pseudoaleatorios** y el algoritmo que los produce se llama **generador de números pseudoaleatorios**.\n",
    "\n",
    "## Funcionamiento de un generador de números pseudoaleatorios\n",
    "\n",
    "El funcionamiento de un generador de números pseudoaleatorios es como sigue:\n",
    "1. Se elige una semilla inicial cualquiera $𝑥_0$.\n",
    "2. Se genera una sucesión de estados $𝑥_𝑛  \\in 𝑋$, $𝑛 \\geq 1$, para $𝑋$ finito, mediante una relación $𝑥_𝑛  = 𝑇(𝑥_{𝑛−1})$.\n",
    "3. Se obtiene la sucesión de números pseudoaleatorios $𝑢_𝑛$, $𝑛 \\geq 1$ mediante una relación $𝑢_𝑛  = 𝐺(𝑥_𝑛 )$.\n",
    "\n",
    "<FONT COLOR= 'RED'> **Observaciones:** </FONT>\n",
    "- Como $𝑋$ es finito, la sucesión de estados de un generador de números pseudoaletorios es periódica. En algún momento ocurrirá $𝑥_𝑗  = 𝑥_𝑖$  para algún $𝑗 > 𝑖$, y a partir de ese instante, $𝑥_𝑗 + 𝑘 = 𝑥_𝑖 + 𝑘$, y por lo tanto, $𝑢_𝑗 + 𝑘 = 𝑢_𝑖 + 𝑘$, para todo $𝑘 \\geq 0$. \n",
    "- El período de un generador es el menor entero $𝑝 > 0$, tal que para algún entero $𝑟 > 0$, se verifica que $𝑥_{𝑝+𝑘} = 𝑥_𝑘$, para todo $𝑘 \\geq 𝑟$.\n",
    "- Si el período de un generador coincide con la cardinalidad de $𝑋$, él se llama de período completo.\n",
    "\n",
    "## Pros y contras de los generadores de números aleatorios\n",
    "Una rutina de generación de números aleatorios debe ser:\n",
    "<ul>\n",
    "    <li> Replicable </li>\n",
    "    <li> Rápida </li>\n",
    "    <li> No tener saltos grandes entre dos números generados</li>\n",
    "    <li> Tener un período de generación suficientemente grande (para que no hayan repeticiones en pocas generaciones) </li>\n",
    "    <li> Generar números con propiedades estadísticas lo más parecido posible a las distribuciones ideales que se quieren generar </li>\n",
    "</ul>\n",
    "\n",
    "Los más comunes contras de los generadores de números aleatorios son:\n",
    "<ul>\n",
    "    <li> Los números no están uniformemente distribuidos </li>\n",
    "    <li> Discretización de los números generados </li>\n",
    "    <li> Media o varianza incorrectas</li>\n",
    "    <li> Presencia de variaciones cíclicas</li>\n",
    "</ul>\n",
    "\n",
    "## Algoritmos de generación de números aleatorios\n",
    "El primero que trató con los problemas de generación de números aleatorios fue John von Neumann, en 1949. Propuso un método llamado **middle-square**. Este método nos permite entender algunas características importantes del proceso de generación de números aleatorios. Para empezar, necesitamos dar una entrada como una semilla **(seed)** o un valor que inicia la sucesión. Esto es necesario para generar diferentes sucesiones cada vez. Sin embargo, es importante asegurar que el buen desempeño del generador no depende de la semilla usada. A partir de aquí, aparece la primera falla del método del **middle-square**, es decir, al usar el valor cero como\n",
    "una semilla, solo se obtendrá una secuencia de ceros.\n",
    "\n",
    "Otro inconveniente de este método es la repetitividad de las sucesiones. Como en todos los generadores de números aleatorios, cada valor depende del valor anterior, y, a lo más, de las variables de estado interno del generador. Dado que se trata de un número limitado de dígitos, la sucesión solo se puede repetir a partir de cierto punto. La longitud de la secuencia, antes de que comience a repetirse, se llama **período**. Un período largo es importante porque muchas aplicaciones prácticas requieren una gran cantidad de datos aleatorios y una secuencia repetitiva puede ser menos efectiva. En tales casos, es importante que la elección de la semilla no influya en los posibles resultados.\n",
    "\n",
    "Otro aspecto importante es la eficiencia del algoritmo. El tamaño de los valores de los datos de salida y el estado interno y, por lo tanto, la entrada del generador (semilla), a menudo son características intrínsecas del algoritmo y permanecen constantes. Por ello, la eficiencia de un generador de números pseudoaleatorios debe evaluarse no tanto en términos de complejidad computacional, sino en términos de la posibilidad de una implementación rápida y eficiente de las arquitecturas de cálculo disponibles. De hecho, dependiendo de la arquitectura en la que esté trabajando, la elección de diferentes generadores de números pseudoaleatorios o diferentes parámetros de diseño de un determinado de estos algoritmos puede resultar en una implementación más rápida en muchos órdenes de magnitud.\n",
    "\n",
    "<h1 style=\"background-color:Green;font-size:36pt;color:white\"> Generadores congruenciales lineales (GCL)</h1>\n",
    "\n",
    "Introducido por Lehmer en 1951, el **Generador Congruencial Lineal** esuno de los métodos más comunes para la generación de números pseudoaleatorios, el cual es simple de entender e implementar; y es también, computacionalmente, bueno. La relación de recursividad está definida por la siguiente ecuación:\n",
    "$$x_{n+1} = (a x_{n} + c) \\mod m$$\n",
    "Donde:\n",
    "- $a$ es el multiplicador.\n",
    "- $c$ es una constante aditiva (también llamado incremento).\n",
    "- $m$ es el módulo. $(m > x_0, m>a \\text{ y } m>c)$\n",
    "- $x_0$ es la \"semilla\" (seed)\n",
    "- Cabe mencionar que $a, c, m, x_0 \\in \\mathbb{Z}^{+}$, es decir deben ser enteros positivos. \n",
    "\n",
    "La relación de recurrencia nos dice que $x_{n+1}$ es el residuo de dividir $a x_{n} + c$ entre el módulo. Lo anterior significa que los valores posibles de $x_{n+1}$ son $0,1,2,3, \\ldots, m-1$; es decir, $m$ representa el número posible de valores diferentes que pueden ser generados.\n",
    "\n",
    "La técnica congruencial lineal tiene las siguientes características:\n",
    "- Es cíclica con un periodo que es aproximadamente igual a $m$.\n",
    "- Los números generados son discretos.\n",
    "- Si $c = 0$, el generador se llama multiplicativo; si no se llama mixto.\n",
    "\n",
    "**Ejercicio** Usando la relación del Generador Congruencial Lineal, genere 17 números pseudoaleatorios con los siguientes datos: \n",
    "$$a = 2, c = 4, m = 5, x_0 = 3$$\n",
    "**¿Cuál es el periodo de estos números?**"
   ]
  },
  {
   "cell_type": "code",
   "execution_count": 15,
   "metadata": {},
   "outputs": [
    {
     "name": "stdout",
     "output_type": "stream",
     "text": [
      "0\n",
      "4\n",
      "2\n",
      "3\n",
      "0\n",
      "4\n",
      "2\n",
      "3\n",
      "0\n",
      "4\n",
      "2\n",
      "3\n",
      "0\n",
      "4\n",
      "2\n",
      "3\n",
      "0\n"
     ]
    }
   ],
   "source": [
    "a = 2\n",
    "c = 4\n",
    "m = 5\n",
    "x = 3\n",
    "\n",
    "for i in range (17):\n",
    "    x = np.mod(a*x+c, m)\n",
    "    print(x)"
   ]
  },
  {
   "cell_type": "markdown",
   "metadata": {},
   "source": [
    "**Solución:** Puede verse que el periodo 5, el número 0 se vuelve a repetir cada 5 números generados. Por eso se elige un número $m$ lo más grande posible."
   ]
  },
  {
   "cell_type": "markdown",
   "metadata": {},
   "source": [
    "**Ejercicio** Usando la relación del Generador Congruencial Lineal, determine de qué tipo es el generador (multiplicativo o mixto) y determine su período calculando los primeros números pseudoaleatorios generados por el generador congruencial:\n",
    "$$𝑥_𝑛 = (5𝑥_{𝑛−1}+1)\\text{ 𝑚𝑜𝑑 }9\\text{, con }𝑥_0 = 1$$"
   ]
  },
  {
   "cell_type": "code",
   "execution_count": 1,
   "metadata": {},
   "outputs": [
    {
     "name": "stdout",
     "output_type": "stream",
     "text": [
      "1\n",
      "6\n",
      "4\n",
      "3\n",
      "7\n",
      "0\n",
      "1\n",
      "El periodo es 6\n"
     ]
    }
   ],
   "source": [
    "x = 1 #Definiendo la semilla\n",
    "periodo = 0 # Para cálcular el valor del periodo\n",
    "\n",
    "print(x)\n",
    "\n",
    "while True:\n",
    "    x = (5*x + 1) % 9\n",
    "        \n",
    "    # Actualizando el periodo\n",
    "    periodo += 1\n",
    "    \n",
    "    print(x)\n",
    "    if x == 1:\n",
    "        break\n",
    "    \n",
    "    \n",
    "print(f\"El periodo es {periodo}\")"
   ]
  },
  {
   "cell_type": "markdown",
   "metadata": {},
   "source": [
    "# Usando los GCL para generar $U(0,1)$\n",
    "\n",
    "Es posible generar números pseudoaleatorios que sigan una distribución uniforme en el intervalo $[0, 1]$, para esto consideremos una sucesión de números pseudoaleatorios $u_n$, donde $n \\geq 1$. Dicha sucesión estará generada por la fórmula:\n",
    "$$u_i = \\frac{x_i}{m}$$\n",
    "Donde:\n",
    "- $x_i$ es el término $i$-ésimo de un GCL.\n",
    "- $m$ es el módulo de dicho GCL.\n",
    "\n",
    "<FONT COLOR= 'RED'> **Desventajas de este método:** </FONT>\n",
    "- Cada $x_i$ está completamente caracterizado por $a, b, m$ y $x_0$, así que no son aleatorios. Sin embargo existen formas de elegir los parámetros, de tal forma que la sucesión $u_n, n \\geq 1$ asemeje a una sucesión de números $U(0; 1)$.\n",
    "- Los $u_i$ pueden ser solo $0, \\frac{1}{m}, \\frac{2}{m}, \\ldots \\frac{(m- 1)}{m}$, pero tomando $m$ suficientemente grande, por ejemplo $m \\geq 10^9$, el conjunto de posibles valores es suficientemente denso en $[0,1]$ para asemejar a una variable $U(0; 1)$.\n",
    "\n",
    "**Ejercicio** Tomando el GCL, del ejemplo anterior, $𝑥_𝑛 = (5𝑥_{𝑛−1}+1)\\text{ 𝑚𝑜𝑑 }9\\text{, con }𝑥_0 = 1$ genere números que siguen una distribución $U(0,1)$."
   ]
  },
  {
   "cell_type": "code",
   "execution_count": 14,
   "metadata": {},
   "outputs": [
    {
     "name": "stdout",
     "output_type": "stream",
     "text": [
      "0.1111111111111111\n",
      "0.6666666666666666\n",
      "0.4444444444444444\n",
      "0.3333333333333333\n",
      "0.7777777777777778\n",
      "0.0\n"
     ]
    }
   ],
   "source": [
    "x = 1 #Definiendo la semilla\n",
    "periodo = 0 # Para cálcular el valor del periodo\n",
    "\n",
    "print(x / 9)\n",
    "\n",
    "while True:\n",
    "    x = (5*x + 1) % 9\n",
    "    \n",
    "    ui = x / 9\n",
    "    # Actualizando el periodo\n",
    "    periodo += 1\n",
    "    \n",
    "    if x == 1:\n",
    "        break\n",
    "    \n",
    "    print(ui)"
   ]
  },
  {
   "cell_type": "markdown",
   "metadata": {},
   "source": [
    "**Ejercicio** Tomando el GCL, del ejemplo anterior, $𝑥_𝑛 = (5𝑥_{𝑛−1} + 1)\\text{ 𝑚𝑜𝑑 }512\\text{, con }𝑥_0 = 1$ genere números que siguen una distribución $U(0,1)$. (No los imprima, solo determine la cantidad de elementos generados).\n",
    "Piense en cómo podría detener el algoritmo."
   ]
  },
  {
   "cell_type": "code",
   "execution_count": 60,
   "metadata": {},
   "outputs": [
    {
     "name": "stdout",
     "output_type": "stream",
     "text": [
      "El periodo es: 511\n"
     ]
    }
   ],
   "source": [
    "x = 1 #Definiendo la semilla\n",
    "\n",
    "valores = [x] # Consideramos una lista para guardar los valores generados\n",
    "\n",
    "periodo = 0 # Iniciamos el contador del periodo\n",
    "\n",
    "# Usamos While porque no sabemos cuándo va a terminar\n",
    "while True:\n",
    "    x = (5*x + 1) % 512 # Realizamos las operaciones del GCL\n",
    "    \n",
    "    # Si algún valor generado se repite, el algoritmo se detiene\n",
    "    if x in valores:\n",
    "        break\n",
    "    \n",
    "    # Si no se detiene, agregamos el \n",
    "    valores.append(x)\n",
    "    \n",
    "    # Cálculamos los elementos de la sucesión\n",
    "    ui = x / 512\n",
    "    #print(ui)\n",
    "    \n",
    "    # Actualizando el periodo\n",
    "    periodo += 1\n",
    "    \n",
    "    datos.append(ui)\n",
    "\n",
    "print('El periodo es:', periodo)"
   ]
  },
  {
   "cell_type": "markdown",
   "metadata": {},
   "source": [
    "**Para ver posibles estrategias de selección de $m$ ver:** Coss, R. Simulación. Un enfoque práctico. Limusa Noriega editores. p. 22.\n",
    "\n",
    "<h3 style=\"background-color:red;font-size:12pt;color:white\">Existen otros métodos para la generación de números pseudoaleatorios, para distribuciones de probabilidad específicas, pero no los estudiaremos. Usaremos los incluidos en modulos de Python.</h3>\n",
    "\n",
    "Para ver más métodos de generación de números pseudoaleatorios, ver: Coss, R. Simulación. Un enfoque práctico. Limusa Noriega editores."
   ]
  }
 ],
 "metadata": {
  "kernelspec": {
   "display_name": "Python 3",
   "language": "python",
   "name": "python3"
  },
  "language_info": {
   "codemirror_mode": {
    "name": "ipython",
    "version": 3
   },
   "file_extension": ".py",
   "mimetype": "text/x-python",
   "name": "python",
   "nbconvert_exporter": "python",
   "pygments_lexer": "ipython3",
   "version": "3.9.0"
  }
 },
 "nbformat": 4,
 "nbformat_minor": 4
}
